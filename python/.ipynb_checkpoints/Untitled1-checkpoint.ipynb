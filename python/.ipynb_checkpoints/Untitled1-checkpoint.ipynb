{
 "cells": [
  {
   "cell_type": "code",
   "execution_count": 1,
   "metadata": {},
   "outputs": [],
   "source": [
    "from sklearn.cluster import KMeans\n",
    "import numpy as np\n",
    "import matplotlib.pyplot as plt\n",
    "import math\n",
    "import pandas as pd\n",
    "import sklearn\n",
    "import pickle"
   ]
  },
  {
   "cell_type": "code",
   "execution_count": 2,
   "metadata": {},
   "outputs": [],
   "source": [
    "from sklearn.cluster import SpectralClustering\n",
    "from scipy.interpolate  import lagrange"
   ]
  },
  {
   "cell_type": "code",
   "execution_count": 3,
   "metadata": {},
   "outputs": [],
   "source": [
    "from sklearn.preprocessing import LabelEncoder\n",
    "from sklearn.model_selection import train_test_split\n",
    "from sklearn.linear_model import LinearRegression\n",
    "from sklearn.tree import DecisionTreeRegressor\n",
    "from sklearn.ensemble import RandomForestRegressor\n",
    "from sklearn.metrics import mean_squared_error, mean_squared_log_error,r2_score"
   ]
  },
  {
   "cell_type": "code",
   "execution_count": 8,
   "metadata": {},
   "outputs": [],
   "source": [
    "sl=pd.read_csv(\"final_sl.csv\").values[:,1:]\n",
    "gdp={}\n",
    "pop={}\n",
    "for i in range(1,6):\n",
    "    gdp.update({i:pd.read_csv(\"final_gdp%d.csv\"%i).values[:,1:]})\n",
    "    pop.update({i:pd.read_csv(\"final_pop%d.csv\"%i).values[:,1:]})\n"
   ]
  },
  {
   "cell_type": "code",
   "execution_count": 13,
   "metadata": {},
   "outputs": [
    {
     "data": {
      "text/plain": [
       "1783.072372224906"
      ]
     },
     "execution_count": 13,
     "metadata": {},
     "output_type": "execute_result"
    }
   ],
   "source": [
    "gdp[1][1,1]"
   ]
  },
  {
   "cell_type": "code",
   "execution_count": 17,
   "metadata": {},
   "outputs": [
    {
     "name": "stdout",
     "output_type": "stream",
     "text": [
      "0.9997199117430621\n",
      "[[0.00929327 0.45182039]] [3152.2691242]\n"
     ]
    },
    {
     "data": {
      "image/png": "[encoded data removed]",
      "text/plain": [
       "<Figure size 432x288 with 1 Axes>"
      ]
     },
     "metadata": {
      "needs_background": "light"
     },
     "output_type": "display_data"
    }
   ],
   "source": [
    "x1650=np.arange(2016,2051)\n",
    "\n",
    "for ct in [1]:\n",
    "    model=LinearRegression()\n",
    "    train_X=np.hstack([gdp[1][ct,:16].reshape(-1,1),pop[1][ct,:16].reshape(-1,1)])\n",
    "    train_Y=sl[ct,:16].reshape(-1,1)\n",
    "    model.fit(train_X,train_Y)\n",
    "    pred_Y=model.predict(train_X)\n",
    "    r2=r2_score(pred_Y, train_Y)\n",
    "    print(r2)\n",
    "    print(model.coef_,model.intercept_)\n",
    "    plt.plot(pred_Y.reshape(-1), train_Y.reshape(-1),'o')\n",
    "    plt.show()\n",
    "    plt.close()\n",
    "    \n",
    "    future_X=np.hstack([gdp[1][ct,16:].reshape(-1,1),pop[1][ct,16:].reshape(-1,1)])\n",
    "    future_Y=model.predict(future_X)\n",
    "    plt.plot(x1650,future_Y)\n",
    "    plt.show()\n",
    "    plt.close()"
   ]
  },
  {
   "cell_type": "code",
   "execution_count": 18,
   "metadata": {},
   "outputs": [
    {
     "data": {
      "text/plain": [
       "[<matplotlib.lines.Line2D at 0x1a281bf290>]"
      ]
     },
     "execution_count": 18,
     "metadata": {},
     "output_type": "execute_result"
    },
    {
     "data": {
      "image/png": "[encoded data removed]",
      "text/plain": [
       "<Figure size 432x288 with 1 Axes>"
      ]
     },
     "metadata": {
      "needs_background": "light"
     },
     "output_type": "display_data"
    }
   ],
   "source": [
    "future_X=np.hstack([gdp[1][ct,16:].reshape(-1,1),pop[1][ct,16:].reshape(-1,1)])\n",
    "future_Y=model.predict(future_X)\n",
    "plt.plot(x1650,future_Y)"
   ]
  },
  {
   "cell_type": "code",
   "execution_count": null,
   "metadata": {},
   "outputs": [],
   "source": []
  }
 ],
 "metadata": {
  "kernelspec": {
   "display_name": "Python 3",
   "language": "python",
   "name": "python3"
  },
  "language_info": {
   "codemirror_mode": {
    "name": "ipython",
    "version": 3
   },
   "file_extension": ".py",
   "mimetype": "text/x-python",
   "name": "python",
   "nbconvert_exporter": "python",
   "pygments_lexer": "ipython3",
   "version": "3.7.4"
  }
 },
 "nbformat": 4,
 "nbformat_minor": 4
}
