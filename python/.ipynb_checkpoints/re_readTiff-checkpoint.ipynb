{
 "cells": [
  {
   "cell_type": "code",
   "execution_count": 1,
   "metadata": {},
   "outputs": [],
   "source": [
    "from PIL import Image\n",
    "from osgeo import osr # 空間参照モジュール\n",
    "import gdal\n",
    "from osgeo import gdal, gdalconst, gdal_array\n",
    "import pandas as pd\n",
    "import numpy as np\n",
    "import pylab as plt"
   ]
  },
  {
   "cell_type": "code",
   "execution_count": 3,
   "metadata": {
    "collapsed": true,
    "jupyter": {
     "outputs_hidden": true
    }
   },
   "outputs": [
    {
     "data": {
      "text/html": [
       "<div>\n",
       "<style scoped>\n",
       "    .dataframe tbody tr th:only-of-type {\n",
       "        vertical-align: middle;\n",
       "    }\n",
       "\n",
       "    .dataframe tbody tr th {\n",
       "        vertical-align: top;\n",
       "    }\n",
       "\n",
       "    .dataframe thead th {\n",
       "        text-align: right;\n",
       "    }\n",
       "</style>\n",
       "<table border=\"1\" class=\"dataframe\">\n",
       "  <thead>\n",
       "    <tr style=\"text-align: right;\">\n",
       "      <th></th>\n",
       "      <th>city</th>\n",
       "      <th>sl_2016</th>\n",
       "      <th>sl_2017</th>\n",
       "      <th>sl_2018</th>\n",
       "      <th>sl_2019</th>\n",
       "      <th>sl_2020</th>\n",
       "      <th>sl_2021</th>\n",
       "      <th>sl_2022</th>\n",
       "      <th>sl_2023</th>\n",
       "      <th>sl_2024</th>\n",
       "      <th>...</th>\n",
       "      <th>sl_2041</th>\n",
       "      <th>sl_2042</th>\n",
       "      <th>sl_2043</th>\n",
       "      <th>sl_2044</th>\n",
       "      <th>sl_2045</th>\n",
       "      <th>sl_2046</th>\n",
       "      <th>sl_2047</th>\n",
       "      <th>sl_2048</th>\n",
       "      <th>sl_2049</th>\n",
       "      <th>sl_2050</th>\n",
       "    </tr>\n",
       "  </thead>\n",
       "  <tbody>\n",
       "    <tr>\n",
       "      <td>0</td>\n",
       "      <td>Beijing</td>\n",
       "      <td>4990.48</td>\n",
       "      <td>5091.16</td>\n",
       "      <td>5192.83</td>\n",
       "      <td>5301.87</td>\n",
       "      <td>5411.09</td>\n",
       "      <td>5526.04</td>\n",
       "      <td>5633.53</td>\n",
       "      <td>5746.02</td>\n",
       "      <td>5864.35</td>\n",
       "      <td>...</td>\n",
       "      <td>8011.58</td>\n",
       "      <td>8124.97</td>\n",
       "      <td>8239.42</td>\n",
       "      <td>8347.61</td>\n",
       "      <td>8459.18</td>\n",
       "      <td>8563.72</td>\n",
       "      <td>8669.55</td>\n",
       "      <td>8771.62</td>\n",
       "      <td>8868.87</td>\n",
       "      <td>8970.53</td>\n",
       "    </tr>\n",
       "    <tr>\n",
       "      <td>1</td>\n",
       "      <td>New Delhi</td>\n",
       "      <td>3801.71</td>\n",
       "      <td>3810.51</td>\n",
       "      <td>3819.82</td>\n",
       "      <td>3828.77</td>\n",
       "      <td>3838.30</td>\n",
       "      <td>3846.55</td>\n",
       "      <td>3854.35</td>\n",
       "      <td>3862.63</td>\n",
       "      <td>3870.86</td>\n",
       "      <td>...</td>\n",
       "      <td>4033.35</td>\n",
       "      <td>4042.48</td>\n",
       "      <td>4052.04</td>\n",
       "      <td>4061.91</td>\n",
       "      <td>4072.25</td>\n",
       "      <td>4082.04</td>\n",
       "      <td>4091.52</td>\n",
       "      <td>4101.16</td>\n",
       "      <td>4111.89</td>\n",
       "      <td>4127.10</td>\n",
       "    </tr>\n",
       "    <tr>\n",
       "      <td>2</td>\n",
       "      <td>Washington D.C.</td>\n",
       "      <td>2637.81</td>\n",
       "      <td>2642.48</td>\n",
       "      <td>2647.46</td>\n",
       "      <td>2652.59</td>\n",
       "      <td>2657.25</td>\n",
       "      <td>2662.18</td>\n",
       "      <td>2666.97</td>\n",
       "      <td>2672.07</td>\n",
       "      <td>2677.05</td>\n",
       "      <td>...</td>\n",
       "      <td>2768.11</td>\n",
       "      <td>2773.71</td>\n",
       "      <td>2779.40</td>\n",
       "      <td>2785.23</td>\n",
       "      <td>2790.76</td>\n",
       "      <td>2795.91</td>\n",
       "      <td>2801.80</td>\n",
       "      <td>2807.73</td>\n",
       "      <td>2813.27</td>\n",
       "      <td>2818.85</td>\n",
       "    </tr>\n",
       "    <tr>\n",
       "      <td>3</td>\n",
       "      <td>Jakarta</td>\n",
       "      <td>6774.34</td>\n",
       "      <td>6863.07</td>\n",
       "      <td>6947.23</td>\n",
       "      <td>7026.80</td>\n",
       "      <td>7101.44</td>\n",
       "      <td>7171.75</td>\n",
       "      <td>7243.18</td>\n",
       "      <td>7310.78</td>\n",
       "      <td>7377.44</td>\n",
       "      <td>...</td>\n",
       "      <td>8433.55</td>\n",
       "      <td>8486.72</td>\n",
       "      <td>8538.99</td>\n",
       "      <td>8588.75</td>\n",
       "      <td>8637.19</td>\n",
       "      <td>8684.46</td>\n",
       "      <td>8729.67</td>\n",
       "      <td>8774.35</td>\n",
       "      <td>8817.23</td>\n",
       "      <td>8858.34</td>\n",
       "    </tr>\n",
       "    <tr>\n",
       "      <td>4</td>\n",
       "      <td>Brasilia</td>\n",
       "      <td>1515.56</td>\n",
       "      <td>1628.14</td>\n",
       "      <td>1740.89</td>\n",
       "      <td>1861.91</td>\n",
       "      <td>1983.61</td>\n",
       "      <td>2114.11</td>\n",
       "      <td>2249.05</td>\n",
       "      <td>2384.04</td>\n",
       "      <td>2526.17</td>\n",
       "      <td>...</td>\n",
       "      <td>4979.25</td>\n",
       "      <td>5095.63</td>\n",
       "      <td>5209.94</td>\n",
       "      <td>5324.06</td>\n",
       "      <td>5433.31</td>\n",
       "      <td>5540.31</td>\n",
       "      <td>5645.22</td>\n",
       "      <td>5749.82</td>\n",
       "      <td>5853.61</td>\n",
       "      <td>5961.80</td>\n",
       "    </tr>\n",
       "    <tr>\n",
       "      <td>...</td>\n",
       "      <td>...</td>\n",
       "      <td>...</td>\n",
       "      <td>...</td>\n",
       "      <td>...</td>\n",
       "      <td>...</td>\n",
       "      <td>...</td>\n",
       "      <td>...</td>\n",
       "      <td>...</td>\n",
       "      <td>...</td>\n",
       "      <td>...</td>\n",
       "      <td>...</td>\n",
       "      <td>...</td>\n",
       "      <td>...</td>\n",
       "      <td>...</td>\n",
       "      <td>...</td>\n",
       "      <td>...</td>\n",
       "      <td>...</td>\n",
       "      <td>...</td>\n",
       "      <td>...</td>\n",
       "      <td>...</td>\n",
       "      <td>...</td>\n",
       "    </tr>\n",
       "    <tr>\n",
       "      <td>109</td>\n",
       "      <td>Kingston</td>\n",
       "      <td>4256.57</td>\n",
       "      <td>4286.94</td>\n",
       "      <td>4319.96</td>\n",
       "      <td>4354.16</td>\n",
       "      <td>4389.41</td>\n",
       "      <td>4422.92</td>\n",
       "      <td>4457.23</td>\n",
       "      <td>4492.18</td>\n",
       "      <td>4525.53</td>\n",
       "      <td>...</td>\n",
       "      <td>4964.42</td>\n",
       "      <td>4977.77</td>\n",
       "      <td>4985.76</td>\n",
       "      <td>4992.18</td>\n",
       "      <td>4998.49</td>\n",
       "      <td>5003.12</td>\n",
       "      <td>5007.87</td>\n",
       "      <td>5011.80</td>\n",
       "      <td>5015.78</td>\n",
       "      <td>5020.45</td>\n",
       "    </tr>\n",
       "    <tr>\n",
       "      <td>110</td>\n",
       "      <td>Ljubljana</td>\n",
       "      <td>154.00</td>\n",
       "      <td>154.00</td>\n",
       "      <td>154.00</td>\n",
       "      <td>154.00</td>\n",
       "      <td>154.00</td>\n",
       "      <td>154.00</td>\n",
       "      <td>154.00</td>\n",
       "      <td>154.00</td>\n",
       "      <td>154.00</td>\n",
       "      <td>...</td>\n",
       "      <td>154.00</td>\n",
       "      <td>154.00</td>\n",
       "      <td>154.00</td>\n",
       "      <td>154.00</td>\n",
       "      <td>154.00</td>\n",
       "      <td>154.00</td>\n",
       "      <td>154.00</td>\n",
       "      <td>154.00</td>\n",
       "      <td>154.00</td>\n",
       "      <td>154.00</td>\n",
       "    </tr>\n",
       "    <tr>\n",
       "      <td>111</td>\n",
       "      <td>Riga</td>\n",
       "      <td>221.00</td>\n",
       "      <td>221.00</td>\n",
       "      <td>221.00</td>\n",
       "      <td>221.00</td>\n",
       "      <td>221.00</td>\n",
       "      <td>221.00</td>\n",
       "      <td>221.00</td>\n",
       "      <td>221.00</td>\n",
       "      <td>221.00</td>\n",
       "      <td>...</td>\n",
       "      <td>221.00</td>\n",
       "      <td>221.00</td>\n",
       "      <td>221.00</td>\n",
       "      <td>221.00</td>\n",
       "      <td>221.00</td>\n",
       "      <td>221.00</td>\n",
       "      <td>221.00</td>\n",
       "      <td>221.00</td>\n",
       "      <td>221.00</td>\n",
       "      <td>221.00</td>\n",
       "    </tr>\n",
       "    <tr>\n",
       "      <td>112</td>\n",
       "      <td>Tallinn</td>\n",
       "      <td>137.00</td>\n",
       "      <td>137.00</td>\n",
       "      <td>137.00</td>\n",
       "      <td>137.00</td>\n",
       "      <td>137.00</td>\n",
       "      <td>137.00</td>\n",
       "      <td>137.00</td>\n",
       "      <td>137.00</td>\n",
       "      <td>137.00</td>\n",
       "      <td>...</td>\n",
       "      <td>137.00</td>\n",
       "      <td>137.00</td>\n",
       "      <td>137.00</td>\n",
       "      <td>137.00</td>\n",
       "      <td>137.00</td>\n",
       "      <td>137.00</td>\n",
       "      <td>137.00</td>\n",
       "      <td>137.00</td>\n",
       "      <td>137.00</td>\n",
       "      <td>137.00</td>\n",
       "    </tr>\n",
       "    <tr>\n",
       "      <td>113</td>\n",
       "      <td>Georgetown</td>\n",
       "      <td>2014.79</td>\n",
       "      <td>2018.48</td>\n",
       "      <td>2022.21</td>\n",
       "      <td>2025.65</td>\n",
       "      <td>2029.21</td>\n",
       "      <td>2033.01</td>\n",
       "      <td>2036.54</td>\n",
       "      <td>2040.25</td>\n",
       "      <td>2043.86</td>\n",
       "      <td>...</td>\n",
       "      <td>2109.62</td>\n",
       "      <td>2113.62</td>\n",
       "      <td>2117.80</td>\n",
       "      <td>2122.18</td>\n",
       "      <td>2126.08</td>\n",
       "      <td>2129.97</td>\n",
       "      <td>2134.40</td>\n",
       "      <td>2138.53</td>\n",
       "      <td>2142.46</td>\n",
       "      <td>2146.51</td>\n",
       "    </tr>\n",
       "  </tbody>\n",
       "</table>\n",
       "<p>114 rows × 36 columns</p>\n",
       "</div>"
      ],
      "text/plain": [
       "                city  sl_2016  sl_2017  sl_2018  sl_2019  sl_2020  sl_2021  \\\n",
       "0            Beijing  4990.48  5091.16  5192.83  5301.87  5411.09  5526.04   \n",
       "1          New Delhi  3801.71  3810.51  3819.82  3828.77  3838.30  3846.55   \n",
       "2    Washington D.C.  2637.81  2642.48  2647.46  2652.59  2657.25  2662.18   \n",
       "3            Jakarta  6774.34  6863.07  6947.23  7026.80  7101.44  7171.75   \n",
       "4           Brasilia  1515.56  1628.14  1740.89  1861.91  1983.61  2114.11   \n",
       "..               ...      ...      ...      ...      ...      ...      ...   \n",
       "109         Kingston  4256.57  4286.94  4319.96  4354.16  4389.41  4422.92   \n",
       "110        Ljubljana   154.00   154.00   154.00   154.00   154.00   154.00   \n",
       "111             Riga   221.00   221.00   221.00   221.00   221.00   221.00   \n",
       "112          Tallinn   137.00   137.00   137.00   137.00   137.00   137.00   \n",
       "113       Georgetown  2014.79  2018.48  2022.21  2025.65  2029.21  2033.01   \n",
       "\n",
       "     sl_2022  sl_2023  sl_2024  ...  sl_2041  sl_2042  sl_2043  sl_2044  \\\n",
       "0    5633.53  5746.02  5864.35  ...  8011.58  8124.97  8239.42  8347.61   \n",
       "1    3854.35  3862.63  3870.86  ...  4033.35  4042.48  4052.04  4061.91   \n",
       "2    2666.97  2672.07  2677.05  ...  2768.11  2773.71  2779.40  2785.23   \n",
       "3    7243.18  7310.78  7377.44  ...  8433.55  8486.72  8538.99  8588.75   \n",
       "4    2249.05  2384.04  2526.17  ...  4979.25  5095.63  5209.94  5324.06   \n",
       "..       ...      ...      ...  ...      ...      ...      ...      ...   \n",
       "109  4457.23  4492.18  4525.53  ...  4964.42  4977.77  4985.76  4992.18   \n",
       "110   154.00   154.00   154.00  ...   154.00   154.00   154.00   154.00   \n",
       "111   221.00   221.00   221.00  ...   221.00   221.00   221.00   221.00   \n",
       "112   137.00   137.00   137.00  ...   137.00   137.00   137.00   137.00   \n",
       "113  2036.54  2040.25  2043.86  ...  2109.62  2113.62  2117.80  2122.18   \n",
       "\n",
       "     sl_2045  sl_2046  sl_2047  sl_2048  sl_2049  sl_2050  \n",
       "0    8459.18  8563.72  8669.55  8771.62  8868.87  8970.53  \n",
       "1    4072.25  4082.04  4091.52  4101.16  4111.89  4127.10  \n",
       "2    2790.76  2795.91  2801.80  2807.73  2813.27  2818.85  \n",
       "3    8637.19  8684.46  8729.67  8774.35  8817.23  8858.34  \n",
       "4    5433.31  5540.31  5645.22  5749.82  5853.61  5961.80  \n",
       "..       ...      ...      ...      ...      ...      ...  \n",
       "109  4998.49  5003.12  5007.87  5011.80  5015.78  5020.45  \n",
       "110   154.00   154.00   154.00   154.00   154.00   154.00  \n",
       "111   221.00   221.00   221.00   221.00   221.00   221.00  \n",
       "112   137.00   137.00   137.00   137.00   137.00   137.00  \n",
       "113  2126.08  2129.97  2134.40  2138.53  2142.46  2146.51  \n",
       "\n",
       "[114 rows x 36 columns]"
      ]
     },
     "execution_count": 3,
     "metadata": {},
     "output_type": "execute_result"
    }
   ],
   "source": [
    "coor=pd.read_csv(\"coordinate.csv\").iloc[:,[1]]\n",
    "\n",
    "\n",
    "for years in range(2016,2051):\n",
    "    yy=\"sl_%d\"%years\n",
    "    oones=np.ones(114)\n",
    "    for ind in range(114):\n",
    "        im=Image.open(\"2016-2050_2/%s/%d.tif\"%(years,ind+1))\n",
    "        im_array=np.array(im)\n",
    "        im_array[im_array<0]=0\n",
    "        im_array[im_array>100]=100\n",
    "        ua=np.sum(im_array)/100\n",
    "        oones[ind]=ua\n",
    "    ydata=pd.DataFrame({yy:oones})\n",
    "    coor=pd.concat([coor,ydata],axis=1)\n",
    "#     break\n",
    "coor\n",
    "    "
   ]
  },
  {
   "cell_type": "code",
   "execution_count": 4,
   "metadata": {},
   "outputs": [],
   "source": [
    "# coor.to_csv(\"sl16_50.csv\")"
   ]
  },
  {
   "cell_type": "code",
   "execution_count": 2,
   "metadata": {},
   "outputs": [
    {
     "data": {
      "text/html": [
       "<div>\n",
       "<style scoped>\n",
       "    .dataframe tbody tr th:only-of-type {\n",
       "        vertical-align: middle;\n",
       "    }\n",
       "\n",
       "    .dataframe tbody tr th {\n",
       "        vertical-align: top;\n",
       "    }\n",
       "\n",
       "    .dataframe thead th {\n",
       "        text-align: right;\n",
       "    }\n",
       "</style>\n",
       "<table border=\"1\" class=\"dataframe\">\n",
       "  <thead>\n",
       "    <tr style=\"text-align: right;\">\n",
       "      <th></th>\n",
       "      <th>city</th>\n",
       "      <th>ssp1</th>\n",
       "      <th>ssp2</th>\n",
       "      <th>ssp3</th>\n",
       "      <th>ssp4</th>\n",
       "      <th>ssp5</th>\n",
       "      <th>sleuth2050</th>\n",
       "      <th>ls2012</th>\n",
       "      <th>2000_ls</th>\n",
       "    </tr>\n",
       "  </thead>\n",
       "  <tbody>\n",
       "    <tr>\n",
       "      <td>0</td>\n",
       "      <td>Beijing</td>\n",
       "      <td>7990</td>\n",
       "      <td>6702</td>\n",
       "      <td>5762</td>\n",
       "      <td>6760</td>\n",
       "      <td>9182</td>\n",
       "      <td>8915.95</td>\n",
       "      <td>4367.0</td>\n",
       "      <td>2202</td>\n",
       "    </tr>\n",
       "    <tr>\n",
       "      <td>1</td>\n",
       "      <td>New Delhi</td>\n",
       "      <td>5940</td>\n",
       "      <td>5075</td>\n",
       "      <td>4204</td>\n",
       "      <td>4954</td>\n",
       "      <td>6628</td>\n",
       "      <td>4101.17</td>\n",
       "      <td>3725.0</td>\n",
       "      <td>2817</td>\n",
       "    </tr>\n",
       "    <tr>\n",
       "      <td>2</td>\n",
       "      <td>Washington D.C.</td>\n",
       "      <td>3997</td>\n",
       "      <td>3741</td>\n",
       "      <td>3471</td>\n",
       "      <td>3920</td>\n",
       "      <td>4591</td>\n",
       "      <td>2817.07</td>\n",
       "      <td>2601.0</td>\n",
       "      <td>2053</td>\n",
       "    </tr>\n",
       "    <tr>\n",
       "      <td>3</td>\n",
       "      <td>Jakarta</td>\n",
       "      <td>6126</td>\n",
       "      <td>5912</td>\n",
       "      <td>5763</td>\n",
       "      <td>5920</td>\n",
       "      <td>6301</td>\n",
       "      <td>8791.94</td>\n",
       "      <td>5810.0</td>\n",
       "      <td>4418</td>\n",
       "    </tr>\n",
       "    <tr>\n",
       "      <td>4</td>\n",
       "      <td>Brasilia</td>\n",
       "      <td>1347</td>\n",
       "      <td>1215</td>\n",
       "      <td>1100</td>\n",
       "      <td>1213</td>\n",
       "      <td>1467</td>\n",
       "      <td>5941.03</td>\n",
       "      <td>853.0</td>\n",
       "      <td>260</td>\n",
       "    </tr>\n",
       "    <tr>\n",
       "      <td>5</td>\n",
       "      <td>Mexico City</td>\n",
       "      <td>3713</td>\n",
       "      <td>3656</td>\n",
       "      <td>3582</td>\n",
       "      <td>3650</td>\n",
       "      <td>3778</td>\n",
       "      <td>3095.19</td>\n",
       "      <td>3000.0</td>\n",
       "      <td>2545</td>\n",
       "    </tr>\n",
       "    <tr>\n",
       "      <td>6</td>\n",
       "      <td>Tokyo</td>\n",
       "      <td>7503</td>\n",
       "      <td>7429</td>\n",
       "      <td>7364</td>\n",
       "      <td>7492</td>\n",
       "      <td>7616</td>\n",
       "      <td>7161.64</td>\n",
       "      <td>6871.0</td>\n",
       "      <td>6061</td>\n",
       "    </tr>\n",
       "    <tr>\n",
       "      <td>7</td>\n",
       "      <td>Manila</td>\n",
       "      <td>3750</td>\n",
       "      <td>3694</td>\n",
       "      <td>3638</td>\n",
       "      <td>3626</td>\n",
       "      <td>3797</td>\n",
       "      <td>3014.91</td>\n",
       "      <td>2821.0</td>\n",
       "      <td>2690</td>\n",
       "    </tr>\n",
       "    <tr>\n",
       "      <td>8</td>\n",
       "      <td>Shanghai</td>\n",
       "      <td>7470</td>\n",
       "      <td>6183</td>\n",
       "      <td>5243</td>\n",
       "      <td>6241</td>\n",
       "      <td>8663</td>\n",
       "      <td>8798.92</td>\n",
       "      <td>4439.0</td>\n",
       "      <td>1730</td>\n",
       "    </tr>\n",
       "    <tr>\n",
       "      <td>9</td>\n",
       "      <td>Guangzhou</td>\n",
       "      <td>7612</td>\n",
       "      <td>6325</td>\n",
       "      <td>5385</td>\n",
       "      <td>6383</td>\n",
       "      <td>8805</td>\n",
       "      <td>12294.69</td>\n",
       "      <td>4654.0</td>\n",
       "      <td>1859</td>\n",
       "    </tr>\n",
       "    <tr>\n",
       "      <td>10</td>\n",
       "      <td>New York City</td>\n",
       "      <td>5577</td>\n",
       "      <td>5321</td>\n",
       "      <td>5051</td>\n",
       "      <td>5500</td>\n",
       "      <td>6171</td>\n",
       "      <td>4070.06</td>\n",
       "      <td>3869.0</td>\n",
       "      <td>3489</td>\n",
       "    </tr>\n",
       "    <tr>\n",
       "      <td>11</td>\n",
       "      <td>Shenzhen</td>\n",
       "      <td>6865</td>\n",
       "      <td>5578</td>\n",
       "      <td>4638</td>\n",
       "      <td>5635</td>\n",
       "      <td>8058</td>\n",
       "      <td>9670.15</td>\n",
       "      <td>3870.0</td>\n",
       "      <td>1180</td>\n",
       "    </tr>\n",
       "    <tr>\n",
       "      <td>12</td>\n",
       "      <td>São Paulo</td>\n",
       "      <td>3139</td>\n",
       "      <td>3006</td>\n",
       "      <td>2892</td>\n",
       "      <td>3005</td>\n",
       "      <td>3259</td>\n",
       "      <td>11935.03</td>\n",
       "      <td>3358.0</td>\n",
       "      <td>1888</td>\n",
       "    </tr>\n",
       "    <tr>\n",
       "      <td>13</td>\n",
       "      <td>Mumbai</td>\n",
       "      <td>4584</td>\n",
       "      <td>3719</td>\n",
       "      <td>2848</td>\n",
       "      <td>3599</td>\n",
       "      <td>5272</td>\n",
       "      <td>1864.04</td>\n",
       "      <td>1796.0</td>\n",
       "      <td>1585</td>\n",
       "    </tr>\n",
       "    <tr>\n",
       "      <td>14</td>\n",
       "      <td>Keihanshin (Kyoto-Osaka-Kobe)</td>\n",
       "      <td>4170</td>\n",
       "      <td>4096</td>\n",
       "      <td>4031</td>\n",
       "      <td>4159</td>\n",
       "      <td>4283</td>\n",
       "      <td>3592.91</td>\n",
       "      <td>3500.0</td>\n",
       "      <td>3032</td>\n",
       "    </tr>\n",
       "    <tr>\n",
       "      <td>15</td>\n",
       "      <td>Wuhan</td>\n",
       "      <td>7050</td>\n",
       "      <td>5763</td>\n",
       "      <td>4823</td>\n",
       "      <td>5820</td>\n",
       "      <td>8242</td>\n",
       "      <td>3266.89</td>\n",
       "      <td>1947.0</td>\n",
       "      <td>1348</td>\n",
       "    </tr>\n",
       "    <tr>\n",
       "      <td>16</td>\n",
       "      <td>Los Angeles</td>\n",
       "      <td>6216</td>\n",
       "      <td>5960</td>\n",
       "      <td>5691</td>\n",
       "      <td>6140</td>\n",
       "      <td>6810</td>\n",
       "      <td>5328.96</td>\n",
       "      <td>4654.0</td>\n",
       "      <td>4070</td>\n",
       "    </tr>\n",
       "    <tr>\n",
       "      <td>17</td>\n",
       "      <td>Chengdu</td>\n",
       "      <td>7154</td>\n",
       "      <td>5866</td>\n",
       "      <td>4926</td>\n",
       "      <td>5924</td>\n",
       "      <td>8346</td>\n",
       "      <td>4427.08</td>\n",
       "      <td>2526.0</td>\n",
       "      <td>1442</td>\n",
       "    </tr>\n",
       "    <tr>\n",
       "      <td>18</td>\n",
       "      <td>Chongqing</td>\n",
       "      <td>6762</td>\n",
       "      <td>5474</td>\n",
       "      <td>4534</td>\n",
       "      <td>5532</td>\n",
       "      <td>7954</td>\n",
       "      <td>1460.50</td>\n",
       "      <td>1417.0</td>\n",
       "      <td>1086</td>\n",
       "    </tr>\n",
       "    <tr>\n",
       "      <td>19</td>\n",
       "      <td>Tianjin</td>\n",
       "      <td>7172</td>\n",
       "      <td>5885</td>\n",
       "      <td>4945</td>\n",
       "      <td>5942</td>\n",
       "      <td>8365</td>\n",
       "      <td>2998.57</td>\n",
       "      <td>2200.0</td>\n",
       "      <td>1459</td>\n",
       "    </tr>\n",
       "  </tbody>\n",
       "</table>\n",
       "</div>"
      ],
      "text/plain": [
       "                             city  ssp1  ssp2  ssp3  ssp4  ssp5  sleuth2050  \\\n",
       "0                         Beijing  7990  6702  5762  6760  9182     8915.95   \n",
       "1                       New Delhi  5940  5075  4204  4954  6628     4101.17   \n",
       "2                 Washington D.C.  3997  3741  3471  3920  4591     2817.07   \n",
       "3                         Jakarta  6126  5912  5763  5920  6301     8791.94   \n",
       "4                        Brasilia  1347  1215  1100  1213  1467     5941.03   \n",
       "5                     Mexico City  3713  3656  3582  3650  3778     3095.19   \n",
       "6                           Tokyo  7503  7429  7364  7492  7616     7161.64   \n",
       "7                          Manila  3750  3694  3638  3626  3797     3014.91   \n",
       "8                        Shanghai  7470  6183  5243  6241  8663     8798.92   \n",
       "9                       Guangzhou  7612  6325  5385  6383  8805    12294.69   \n",
       "10                  New York City  5577  5321  5051  5500  6171     4070.06   \n",
       "11                       Shenzhen  6865  5578  4638  5635  8058     9670.15   \n",
       "12                      São Paulo  3139  3006  2892  3005  3259    11935.03   \n",
       "13                         Mumbai  4584  3719  2848  3599  5272     1864.04   \n",
       "14  Keihanshin (Kyoto-Osaka-Kobe)  4170  4096  4031  4159  4283     3592.91   \n",
       "15                          Wuhan  7050  5763  4823  5820  8242     3266.89   \n",
       "16                    Los Angeles  6216  5960  5691  6140  6810     5328.96   \n",
       "17                        Chengdu  7154  5866  4926  5924  8346     4427.08   \n",
       "18                      Chongqing  6762  5474  4534  5532  7954     1460.50   \n",
       "19                        Tianjin  7172  5885  4945  5942  8365     2998.57   \n",
       "\n",
       "    ls2012  2000_ls  \n",
       "0   4367.0     2202  \n",
       "1   3725.0     2817  \n",
       "2   2601.0     2053  \n",
       "3   5810.0     4418  \n",
       "4    853.0      260  \n",
       "5   3000.0     2545  \n",
       "6   6871.0     6061  \n",
       "7   2821.0     2690  \n",
       "8   4439.0     1730  \n",
       "9   4654.0     1859  \n",
       "10  3869.0     3489  \n",
       "11  3870.0     1180  \n",
       "12  3358.0     1888  \n",
       "13  1796.0     1585  \n",
       "14  3500.0     3032  \n",
       "15  1947.0     1348  \n",
       "16  4654.0     4070  \n",
       "17  2526.0     1442  \n",
       "18  1417.0     1086  \n",
       "19  2200.0     1459  "
      ]
     },
     "execution_count": 2,
     "metadata": {},
     "output_type": "execute_result"
    }
   ],
   "source": [
    "data2050=pd.read_csv(\"2050pred-people-gdp.csv\").iloc[:,1:]\n",
    "citySort=pd.read_csv(\"sleuthOutput.csv\").iloc[:,1:2]\n",
    "citySort\n",
    "data2050=pd.merge(citySort,data2050)\n",
    "data2050.head(20)"
   ]
  },
  {
   "cell_type": "code",
   "execution_count": 14,
   "metadata": {},
   "outputs": [],
   "source": [
    "data2050.to_csv(\"data2050.csv\")"
   ]
  },
  {
   "cell_type": "code",
   "execution_count": 6,
   "metadata": {},
   "outputs": [
    {
     "name": "stdout",
     "output_type": "stream",
     "text": [
      "4393.0\n",
      "3729.0\n",
      "2461.0\n",
      "5783.0\n",
      "829.0\n",
      "2971.0\n",
      "6435.0\n",
      "2797.0\n",
      "4605.0\n",
      "4923.0\n",
      "3832.0\n",
      "3998.0\n",
      "3320.0\n",
      "1845.0\n",
      "3199.0\n",
      "1999.0\n",
      "4627.0\n",
      "2530.0\n",
      "1457.0\n",
      "2310.0\n"
     ]
    }
   ],
   "source": [
    "for ind in range(20):\n",
    "    im=Image.open(\"2012ls_calcu/%s.tif\"%(ind+1))\n",
    "    im_array=np.array(im)\n",
    "    im_array[im_array<1000]=0\n",
    "    im_array[im_array>=1000]=1\n",
    "    print(np.sum(im_array))"
   ]
  },
  {
   "cell_type": "code",
   "execution_count": 69,
   "metadata": {},
   "outputs": [
    {
     "data": {
      "text/plain": [
       "city          BeijingNew DelhiWashington D.C.JakartaBrasilia...\n",
       "ssp1                                                     320901\n",
       "ssp2                                                     293012\n",
       "ssp3                                                     270436\n",
       "ssp4                                                     293913\n",
       "ssp5                                                     348209\n",
       "sleuth2050                                               263673\n",
       "ls2012                                                   171320\n",
       "2000_ls                                                  130397\n",
       "dtype: object"
      ]
     },
     "execution_count": 69,
     "metadata": {},
     "output_type": "execute_result"
    }
   ],
   "source": [
    "data2050.sum()"
   ]
  },
  {
   "cell_type": "code",
   "execution_count": 57,
   "metadata": {},
   "outputs": [
    {
     "name": "stdout",
     "output_type": "stream",
     "text": [
      "5\n",
      "ct: Chengdu\n",
      "u0: 1901.08\n",
      "u1: 4628.0\n"
     ]
    }
   ],
   "source": [
    "for ind in range(5,11):\n",
    "    im=Image.open(\"sleuthOut/%s.tif\"%(ind+1))\n",
    "    im_array=np.array(im)\n",
    "    ls2012=data2050.iloc[ind,7]\n",
    "    u1=data2050.iloc[ind,1]-ls2012\n",
    "    u0=data2050.iloc[ind,6]-ls2012\n",
    "    if u1>u0:\n",
    "        print(ind)\n",
    "        print(\"ct:\",data2050.iloc[ind,0])\n",
    "        print(\"u0:\",u0)\n",
    "        print(\"u1:\",u1)\n",
    "        break"
   ]
  },
  {
   "cell_type": "code",
   "execution_count": 12,
   "metadata": {},
   "outputs": [
    {
     "data": {
      "text/plain": [
       "<matplotlib.image.AxesImage at 0x125354bd0>"
      ]
     },
     "execution_count": 12,
     "metadata": {},
     "output_type": "execute_result"
    },
    {
     "data": {
      "image/png": "[encoded data removed]",
      "text/plain": [
       "<Figure size 576x576 with 1 Axes>"
      ]
     },
     "metadata": {
      "needs_background": "light"
     },
     "output_type": "display_data"
    }
   ],
   "source": [
    "imd=Image.open(\"tifs_d/%s.tif\"%(38+1))\n",
    "im=Image.open(\"sleuthOut/%s.tif\"%(38+1))\n",
    "im_array=np.array(im)\n",
    "imd_array=np.array(imd)\n",
    "\n",
    "im_array[im_array<0]=0\n",
    "im_array[im_array>100]=100\n",
    "\n",
    "fig, ax = plt.subplots(figsize=(8,8))\n",
    "ax.imshow(imd_array,aspect='auto')\n",
    "ax.imshow(im_array,aspect='auto')"
   ]
  },
  {
   "cell_type": "code",
   "execution_count": 25,
   "metadata": {},
   "outputs": [
    {
     "data": {
      "text/plain": [
       "0.0"
      ]
     },
     "execution_count": 25,
     "metadata": {},
     "output_type": "execute_result"
    }
   ],
   "source": [
    "im_array[im_array>100]=0\n",
    "im_array[im_array<0]=0\n",
    "np.sum(im_array)"
   ]
  },
  {
   "cell_type": "code",
   "execution_count": null,
   "metadata": {},
   "outputs": [],
   "source": []
  },
  {
   "cell_type": "code",
   "execution_count": 71,
   "metadata": {},
   "outputs": [
    {
     "data": {
      "text/plain": [
       "((98, 98), 9604)"
      ]
     },
     "execution_count": 71,
     "metadata": {},
     "output_type": "execute_result"
    }
   ],
   "source": [
    "imd_array.shape,imd_array.size"
   ]
  },
  {
   "cell_type": "code",
   "execution_count": 265,
   "metadata": {},
   "outputs": [],
   "source": [
    "xx=np.arange(9)+10#.reshape(3,3)\n",
    "xx[xx>13]=0\n",
    "xx.reshape(-1).argsort()\n",
    "xx[xx.argsort()]\n",
    "# xx[:4]\n",
    "# np.zeros(3)\n",
    "np.argsort(xx)\n",
    "xx[:3]=1\n",
    "xx[xx.argsort()[1:3]]=2"
   ]
  },
  {
   "cell_type": "code",
   "execution_count": 299,
   "metadata": {},
   "outputs": [
    {
     "data": {
      "text/plain": [
       "0.0"
      ]
     },
     "execution_count": 299,
     "metadata": {},
     "output_type": "execute_result"
    }
   ],
   "source": [
    "imd_array.min()"
   ]
  },
  {
   "cell_type": "code",
   "execution_count": 305,
   "metadata": {},
   "outputs": [
    {
     "name": "stdout",
     "output_type": "stream",
     "text": [
      "17215 1721\n"
     ]
    }
   ],
   "source": [
    "imd_array11=imd_array.copy()\n",
    "imd_array11=imd_array11.reshape(-1)\n",
    "\n",
    "nonZero=np.count_nonzero(imd_array11>0)\n",
    "Zeros=imd_array.size-nonZero\n",
    "distanceRank=np.argsort(imd_array11)\n",
    "newArea=(nonZero//10)\n",
    "print(nonZero,newArea)\n",
    "\n",
    "imd_sort=np.zeros(imd_array.size)\n",
    "imd_sort[distanceRank[Zeros:Zeros+newArea]]=1\n",
    "imd_sort=imd_sort.reshape(imd_array.shape)\n",
    "# imd_array11=imd_array11.reshape(imd_array.shape)\n"
   ]
  },
  {
   "cell_type": "code",
   "execution_count": 307,
   "metadata": {},
   "outputs": [
    {
     "name": "stdout",
     "output_type": "stream",
     "text": [
      "1721.0 (18632,)\n"
     ]
    },
    {
     "data": {
      "text/plain": [
       "(1417, 3138)"
      ]
     },
     "execution_count": 307,
     "metadata": {},
     "output_type": "execute_result"
    }
   ],
   "source": [
    "print(imd_sort.sum(),distanceRank.shape)\n",
    "Zeros,Zeros+newArea"
   ]
  },
  {
   "cell_type": "code",
   "execution_count": 275,
   "metadata": {},
   "outputs": [
    {
     "data": {
      "text/plain": [
       "array([ 3528,  5088,  3719, ..., 10158,  6584,  1064])"
      ]
     },
     "execution_count": 275,
     "metadata": {},
     "output_type": "execute_result"
    }
   ],
   "source": [
    "distanceRank#.shape\n",
    "# imd_sort.sum()"
   ]
  },
  {
   "cell_type": "code",
   "execution_count": 308,
   "metadata": {},
   "outputs": [
    {
     "data": {
      "text/plain": [
       "<matplotlib.image.AxesImage at 0x127663ad0>"
      ]
     },
     "execution_count": 308,
     "metadata": {},
     "output_type": "execute_result"
    },
    {
     "data": {
      "image/png": "[encoded data removed]",
      "text/plain": [
       "<Figure size 432x288 with 1 Axes>"
      ]
     },
     "metadata": {
      "needs_background": "light"
     },
     "output_type": "display_data"
    }
   ],
   "source": [
    "plt.imshow(imd_sort)"
   ]
  },
  {
   "cell_type": "code",
   "execution_count": 20,
   "metadata": {},
   "outputs": [
    {
     "data": {
      "text/plain": [
       "nan"
      ]
     },
     "execution_count": 20,
     "metadata": {},
     "output_type": "execute_result"
    },
    {
     "data": {
      "image/png": "[encoded data removed]",
      "text/plain": [
       "<Figure size 432x288 with 1 Axes>"
      ]
     },
     "metadata": {
      "needs_background": "light"
     },
     "output_type": "display_data"
    }
   ],
   "source": [
    "plt.imshow(im_array2)\n",
    "im_array3=im_array2.copy()\n",
    "im_array3\n",
    "np.sum(im_array3)"
   ]
  },
  {
   "cell_type": "code",
   "execution_count": 182,
   "metadata": {},
   "outputs": [
    {
     "data": {
      "text/plain": [
       "(858.0, 5345.0, (136, 137), (136, 137))"
      ]
     },
     "execution_count": 182,
     "metadata": {},
     "output_type": "execute_result"
    }
   ],
   "source": [
    "u2,u1,im_array22.shape,imd_array11.shape"
   ]
  },
  {
   "cell_type": "code",
   "execution_count": 183,
   "metadata": {},
   "outputs": [
    {
     "data": {
      "text/plain": [
       "(1864,)"
      ]
     },
     "execution_count": 183,
     "metadata": {},
     "output_type": "execute_result"
    }
   ],
   "source": [
    "im_array22=im_array2.copy()\n",
    "## cloest areas in 1st output\n",
    "im_array22.reshape(-1)\n",
    "(im_array22[imd_array11==1]==100).shape\n"
   ]
  },
  {
   "cell_type": "code",
   "execution_count": 186,
   "metadata": {},
   "outputs": [
    {
     "data": {
      "text/plain": [
       "<matplotlib.image.AxesImage at 0x1258edcd0>"
      ]
     },
     "execution_count": 186,
     "metadata": {},
     "output_type": "execute_result"
    },
    {
     "data": {
      "image/png": "[encoded data removed]",
      "text/plain": [
       "<Figure size 432x288 with 1 Axes>"
      ]
     },
     "metadata": {
      "needs_background": "light"
     },
     "output_type": "display_data"
    }
   ],
   "source": [
    "plt.imshow(imd_array11)"
   ]
  },
  {
   "cell_type": "code",
   "execution_count": 134,
   "metadata": {},
   "outputs": [
    {
     "data": {
      "text/plain": [
       "<matplotlib.image.AxesImage at 0x125192210>"
      ]
     },
     "execution_count": 134,
     "metadata": {},
     "output_type": "execute_result"
    },
    {
     "data": {
      "image/png": "[encoded data removed]",
      "text/plain": [
       "<Figure size 432x288 with 1 Axes>"
      ]
     },
     "metadata": {
      "needs_background": "light"
     },
     "output_type": "display_data"
    }
   ],
   "source": [
    "plt.imshow(im_array2)"
   ]
  },
  {
   "cell_type": "code",
   "execution_count": 30,
   "metadata": {},
   "outputs": [
    {
     "name": "stdout",
     "output_type": "stream",
     "text": [
      "ct: 38 Berlin\n",
      "Limit==0,u0= 0.0\n"
     ]
    }
   ],
   "source": [
    "for ind in [38,48,88,93,104,105,106,110,111,112]:\n",
    "#     ind=0\n",
    "    im=Image.open(\"sleuthOut/%s.tif\"%(ind+1))\n",
    "    im_array=np.array(im)\n",
    "    ls2012=data2050.iloc[ind,7]\n",
    "    u1=data2050.iloc[ind,1]-ls2012\n",
    "    u0=data2050.iloc[ind,6]-ls2012    \n",
    "    \n",
    "    print(\"ct:\",ind,data2050.iloc[ind,0])\n",
    "#     print(\"u0:\",u0)\n",
    "#     print(\"u1:\",u1)\n",
    "    \n",
    "    im_array3=im_array.copy()\n",
    "    im_array3[im_array<0]=-10\n",
    "    im_array3[im_array>100]=110\n",
    "    \n",
    "    if u1<=u0:\n",
    "        im_array2=im_array.copy()\n",
    "        im_array2=im_array*u1/u0\n",
    "        \n",
    "        im_array2[im_array<0]=-10\n",
    "        im_array2[im_array>100]=110\n",
    "    else:\n",
    "        imd=Image.open(\"sleuthOut/%s.tif\"%(ind+1))\n",
    "        imd_array=np.array(imd)\n",
    "        im_array2=im_array.copy()\n",
    "        im_array2[im_array<0]=0\n",
    "        im_array2[im_array>100]=0\n",
    "        overFlow=1\n",
    "        repeatLimit=8\n",
    "        u2=np.sum(im_array2)/100\n",
    "        if 1:\n",
    "            u0=np.sum(im_array2)/100\n",
    "            print(\"Limit==0,u0=\",u0)\n",
    "#             print(\"repeatLimit==0\")\n",
    "            imd=Image.open(\"tifs_d/%s.tif\"%(ind+1))\n",
    "            imd_array0=np.array(imd)\n",
    "            imd_array=imd_array0.reshape(-1)\n",
    "            # non0:= areas!=110. Zeros:==110\n",
    "            nonZero=np.count_nonzero(imd_array>0)\n",
    "            Zeros=imd_array.size-nonZero\n",
    "            distanceSort=np.argsort(imd_array)\n",
    "            areaPatch=nonZero//6\n",
    "            \n",
    "#             print(imd_array.size,nonZero,Zeros)\n",
    "            for i in [3,2,1]:\n",
    "                imd_sort=np.zeros(imd_array.size)\n",
    "                imd_sort[distanceSort[Zeros+areaPatch*(3-i):Zeros+areaPatch*(4-i)]]=1\n",
    "                imd_sort=imd_sort.reshape(imd_array0.shape)\n",
    "                im_array2[imd_sort==1]+=i*25\n",
    "#                 print(Zeros+areaPatch*(3-i),Zeros+areaPatch*(4-i))\n",
    "            im_array2[im_array2>100]=100\n",
    "            im_array2[im_array<0]=0\n",
    "            \n",
    "#             print(\"Use extra area\")\n",
    "            overFlow=1\n",
    "            repeatLimit=8\n",
    "            #overFlow>0\n",
    "            u2=np.sum(im_array2)/100\n",
    "            if u1<=u2:\n",
    "#                 print(\"u1<=u2\")\n",
    "                im_array2=im_array2*u1/u2\n",
    "                im_array2[im_array<0]=-10\n",
    "                im_array2[im_array>100]=110\n",
    "            else:\n",
    "                while u1-u2>3 and repeatLimit>0:\n",
    "                    repeatLimit-=1\n",
    "                    im_array2[im_array2<100]=im_array2[im_array2<100]*u1/u2\n",
    "                    overFlow=np.count_nonzero(im_array2>100)\n",
    "                    im_array2[im_array2>100]=100\n",
    "                    u2=np.sum(im_array2)/100\n",
    "#                     print(\"overFlow:\",overFlow,\"|\",u0,u2,u1)\n",
    "                    \n",
    "        im_array2[im_array<0]=-10\n",
    "        im_array2[im_array>100]=110\n",
    "#         im_array2[im_array<0]=0\n",
    "#         im_array2[im_array>100]=100\n",
    "#     writeOut(im_array2,ind)\n",
    "#     break"
   ]
  },
  {
   "cell_type": "code",
   "execution_count": 32,
   "metadata": {},
   "outputs": [
    {
     "data": {
      "text/plain": [
       "186300.0"
      ]
     },
     "execution_count": 32,
     "metadata": {},
     "output_type": "execute_result"
    }
   ],
   "source": [
    "im_array2[im_array2<0]=0\n",
    "im_array2[im_array2>100]=100\n",
    "np.sum(im_array2)"
   ]
  },
  {
   "cell_type": "code",
   "execution_count": 42,
   "metadata": {},
   "outputs": [],
   "source": [
    "def writeOut(im_array2,ind,sspNow):\n",
    "    adjest_array=im_array2\n",
    "    ds=gdal.Open(\"sleuthOut/%s.tif\"%(ind+1),gdalconst.GA_ReadOnly)\n",
    "\n",
    "    xsize=ds.RasterXSize #水平方向ピクセル数\n",
    "    ysize=ds.RasterYSize #垂直方向ピクセル数\n",
    "    band=1 #NDVIと赤と近赤外で画像を作るので３つバンドを用意\n",
    "    dtype = gdal.GDT_Float64\n",
    "\n",
    "    output = gdal.GetDriverByName('GTiff').Create('SSP%d_Out/%d.tif'%(sspNow,ind+1), xsize, ysize, band, dtype)\n",
    "\n",
    "    adjest_array[adjest_array==110]=111\n",
    "    # adjest_array[adjest_array==-10]=src.GetRasterBand(1).GetNoDataValue()\n",
    "\n",
    "    output.SetGeoTransform(ds.GetGeoTransform()) # 座標系指定\n",
    "    srs = osr.SpatialReference() # 空間参照情報\n",
    "    # srs.ImportFromEPSG(32648) # WGS84 UTM_48nに座標系を指定\n",
    "    srs.ImportFromEPSG(4326)\n",
    "\n",
    "    output.SetProjection(srs.ExportToWkt()) # 空間情報を結合\n",
    "\n",
    "    output.GetRasterBand(1).WriteArray(adjest_array)   # 赤バンド書き出し（b1はnumpy 2次元配列）\n",
    "    output.GetRasterBand(1).SetNoDataValue(-10)\n",
    "    output.FlushCache()                     # ディスクに書き出し\n",
    "    output = None  "
   ]
  },
  {
   "cell_type": "code",
   "execution_count": 41,
   "metadata": {},
   "outputs": [
    {
     "data": {
      "text/plain": [
       "ssp5             9182\n",
       "sleuth2050    8915.95\n",
       "ls2012           4367\n",
       "2000_ls          2202\n",
       "Name: 0, dtype: object"
      ]
     },
     "execution_count": 41,
     "metadata": {},
     "output_type": "execute_result"
    }
   ],
   "source": [
    "data2050.iloc[0,5:]"
   ]
  },
  {
   "cell_type": "code",
   "execution_count": 44,
   "metadata": {},
   "outputs": [
    {
     "name": "stderr",
     "output_type": "stream",
     "text": [
      "/opt/anaconda3/lib/python3.7/site-packages/ipykernel_launcher.py:20: RuntimeWarning: overflow encountered in multiply\n"
     ]
    }
   ],
   "source": [
    "sspNow=5\n",
    "for ind in range(114):\n",
    "#     ind=0\n",
    "    im=Image.open(\"sleuthOut/%s.tif\"%(ind+1))\n",
    "    im_array=np.array(im)\n",
    "    ls2012=data2050.iloc[ind,7]\n",
    "    u1=data2050.iloc[ind,sspNow]-ls2012\n",
    "    u0=data2050.iloc[ind,6]-ls2012    \n",
    "    \n",
    "#     print(\"ct:\",ind,data2050.iloc[ind,0])\n",
    "#     print(\"u0:\",u0)\n",
    "#     print(\"u1:\",u1)\n",
    "    \n",
    "    im_array3=im_array.copy()\n",
    "    im_array3[im_array<0]=-10\n",
    "    im_array3[im_array>100]=110\n",
    "    \n",
    "    if u1<=u0:\n",
    "        im_array2=im_array.copy()\n",
    "        im_array2=im_array*u1/u0\n",
    "        \n",
    "        im_array2[im_array<0]=-10\n",
    "        im_array2[im_array>100]=110\n",
    "    else:\n",
    "        imd=Image.open(\"sleuthOut/%s.tif\"%(ind+1))\n",
    "        imd_array=np.array(imd)\n",
    "        im_array2=im_array.copy()\n",
    "        im_array2[im_array<0]=0\n",
    "        im_array2[im_array>100]=0\n",
    "        overFlow=1\n",
    "        repeatLimit=8\n",
    "        u2=np.sum(im_array2)/100\n",
    "        if ind in [38,48,88,93,104,105,106,110,111,112]:\n",
    "            repeatLimit=0\n",
    "        while u1-u2>3 and repeatLimit>0:\n",
    "            repeatLimit-=1\n",
    "            im_array2[im_array2<100]=im_array2[im_array2<100]*u1/u2\n",
    "            overFlow=np.count_nonzero(im_array2>100)\n",
    "            im_array2[im_array2>100]=100\n",
    "            u2=np.sum(im_array2)/100\n",
    "#             print(\"overFlow:\",overFlow,\"|\",u0,u2,u1)\n",
    "        \n",
    "        if repeatLimit==0:\n",
    "            u0=np.sum(im_array2)/100\n",
    "#             print(\"repeatLimit==0\")\n",
    "            imd=Image.open(\"tifs_d/%s.tif\"%(ind+1))\n",
    "            imd_array0=np.array(imd)\n",
    "            imd_array=imd_array0.reshape(-1)\n",
    "            # non0:= areas!=110. Zeros:==110\n",
    "            nonZero=np.count_nonzero(imd_array>0)\n",
    "            Zeros=imd_array.size-nonZero\n",
    "            distanceSort=np.argsort(imd_array)\n",
    "            ############################\n",
    "            areaPatch=nonZero//6\n",
    "            \n",
    "#             print(imd_array.size,nonZero,Zeros)\n",
    "            for i in [3,2,1]:\n",
    "                imd_sort=np.zeros(imd_array.size)\n",
    "                imd_sort[distanceSort[Zeros+areaPatch*(3-i):Zeros+areaPatch*(4-i)]]=1\n",
    "                imd_sort=imd_sort.reshape(imd_array0.shape)\n",
    "                im_array2[imd_sort==1]+=i*25\n",
    "#                 print(Zeros+areaPatch*(3-i),Zeros+areaPatch*(4-i))\n",
    "            im_array2[im_array2>100]=100\n",
    "            im_array2[im_array<0]=0\n",
    "            \n",
    "#             print(\"Use extra area\")\n",
    "            overFlow=1\n",
    "            repeatLimit=8\n",
    "            #overFlow>0\n",
    "            u2=np.sum(im_array2)/100\n",
    "            if u1<=u2:\n",
    "#                 print(\"u1<=u2\")\n",
    "                im_array2=im_array2*u1/u2\n",
    "                im_array2[im_array<0]=-10\n",
    "                im_array2[im_array>100]=110\n",
    "            else:\n",
    "                while u1-u2>3 and repeatLimit>0:\n",
    "                    repeatLimit-=1\n",
    "                    im_array2[im_array2<100]=im_array2[im_array2<100]*u1/u2\n",
    "                    overFlow=np.count_nonzero(im_array2>100)\n",
    "                    im_array2[im_array2>100]=100\n",
    "                    u2=np.sum(im_array2)/100\n",
    "#                     print(\"overFlow:\",overFlow,\"|\",u0,u2,u1)\n",
    "                    \n",
    "        im_array2[im_array<0]=-10\n",
    "        im_array2[im_array>100]=110\n",
    "#         im_array2[im_array<0]=0\n",
    "#         im_array2[im_array>100]=100\n",
    "    writeOut(im_array2,ind,sspNow)\n",
    "#     break"
   ]
  },
  {
   "cell_type": "code",
   "execution_count": 63,
   "metadata": {},
   "outputs": [
    {
     "data": {
      "text/plain": [
       "(2200, 2200)"
      ]
     },
     "execution_count": 63,
     "metadata": {},
     "output_type": "execute_result"
    }
   ],
   "source": [
    "np.count_nonzero(im_array2<0),np.count_nonzero(im_array<0)\n",
    "np.count_nonzero(im_array2>100),np.count_nonzero(im_array>100)"
   ]
  },
  {
   "cell_type": "code",
   "execution_count": 39,
   "metadata": {},
   "outputs": [
    {
     "data": {
      "text/plain": [
       "5341.121875"
      ]
     },
     "execution_count": 39,
     "metadata": {},
     "output_type": "execute_result"
    }
   ],
   "source": [
    "imtest=im_array2.copy()\n",
    "imtest[imtest>100]=100\n",
    "imtest[imtest<0]=0\n",
    "imtest.sum()/100"
   ]
  },
  {
   "cell_type": "code",
   "execution_count": 25,
   "metadata": {},
   "outputs": [
    {
     "data": {
      "text/plain": [
       "0.0"
      ]
     },
     "execution_count": 25,
     "metadata": {},
     "output_type": "execute_result"
    }
   ],
   "source": [
    "imd_array0.shape,im_array.shape\n",
    "im_array[imd_array0==0].sum()/111\n",
    "imd_array0[im_array==111].sum()"
   ]
  },
  {
   "cell_type": "code",
   "execution_count": 75,
   "metadata": {},
   "outputs": [
    {
     "data": {
      "text/plain": [
       "<matplotlib.image.AxesImage at 0x128442790>"
      ]
     },
     "execution_count": 75,
     "metadata": {},
     "output_type": "execute_result"
    },
    {
     "data": {
      "image/png": "[encoded data removed]",
      "text/plain": [
       "<Figure size 432x288 with 1 Axes>"
      ]
     },
     "metadata": {
      "needs_background": "light"
     },
     "output_type": "display_data"
    }
   ],
   "source": [
    "plt.imshow(im_array2)"
   ]
  },
  {
   "cell_type": "code",
   "execution_count": 61,
   "metadata": {},
   "outputs": [
    {
     "data": {
      "text/plain": [
       "<matplotlib.image.AxesImage at 0x127486910>"
      ]
     },
     "execution_count": 61,
     "metadata": {},
     "output_type": "execute_result"
    },
    {
     "data": {
      "image/png": "[encoded data removed]",
      "text/plain": [
       "<Figure size 432x288 with 1 Axes>"
      ]
     },
     "metadata": {
      "needs_background": "light"
     },
     "output_type": "display_data"
    }
   ],
   "source": [
    "plt.imshow(im_array)"
   ]
  },
  {
   "cell_type": "code",
   "execution_count": 52,
   "metadata": {},
   "outputs": [
    {
     "data": {
      "text/plain": [
       "<matplotlib.image.AxesImage at 0x1293d4c10>"
      ]
     },
     "execution_count": 52,
     "metadata": {},
     "output_type": "execute_result"
    },
    {
     "data": {
      "image/png": "[encoded data removed]",
      "text/plain": [
       "<Figure size 432x288 with 1 Axes>"
      ]
     },
     "metadata": {
      "needs_background": "light"
     },
     "output_type": "display_data"
    }
   ],
   "source": [
    "ind=38\n",
    "imd=Image.open(\"tifs_d/%s.tif\"%(ind+1))\n",
    "imd_array0=np.array(imd)\n",
    "imd_array=imd_array0.reshape(-1)\n",
    "# non0:= areas!=110. Zeros:==110\n",
    "nonZero=np.count_nonzero(imd_array>0)\n",
    "Zeros=imd_array.size-nonZero\n",
    "distanceSort=np.argsort(imd_array)\n",
    "############################\n",
    "areaPatch=nonZero//6\n",
    "\n",
    "im=Image.open(\"sleuthOut/%s.tif\"%(ind+1))\n",
    "im_array=np.array(im)\n",
    "im_array2=im_array.copy()\n",
    "im_array2[im_array<0]=0\n",
    "im_array2[im_array>100]=111\n",
    "\n",
    "\n",
    "# for i in [3,2,1]:\n",
    "#     imd_sort=np.zeros(imd_array.size)\n",
    "#     imd_sort[distanceSort[Zeros+areaPatch*(3-i):Zeros+areaPatch*(4-i)]]=1\n",
    "#     imd_sort=imd_sort.reshape(imd_array0.shape)\n",
    "#     im_array2[imd_sort==1]+=i*25\n",
    "#                 print(Zeros+areaPatch*(3-i),Zeros+areaPatch*(4-i))\n",
    "# im_array2[im_array2>100]=100\n",
    "# im_array2[im_array<0]=0\n",
    "\n",
    "plt.imshow(imd_array0)\n",
    "plt.imshow(im_array2)"
   ]
  },
  {
   "cell_type": "code",
   "execution_count": 11,
   "metadata": {},
   "outputs": [],
   "source": [
    "x=np.ones(114)\n",
    "ori=np.ones(114)\n",
    "for ind in range(114):\n",
    "    im=Image.open(\"sleuthOut/%s.tif\"%(ind+1))\n",
    "    im_array=np.array(im)\n",
    "    im_array[im_array<0]=0\n",
    "    amount=np.count_nonzero(im_array>100)\n",
    "    ori[ind]=amount\n",
    "    \n",
    "    im_array[im_array>100]=100\n",
    "    x[ind]=np.sum(im_array)/100"
   ]
  },
  {
   "cell_type": "code",
   "execution_count": 15,
   "metadata": {},
   "outputs": [],
   "source": [
    "other=pd.read_csv(\"coordinate.csv\")\n",
    "sleuthResult=pd.DataFrame({'city':other.iloc[:,1],'sleuth2050':x,'ls2012':ori})\n",
    "sleuthResult.to_csv(\"sleuthOutput.csv\")"
   ]
  },
  {
   "cell_type": "code",
   "execution_count": null,
   "metadata": {},
   "outputs": [],
   "source": []
  },
  {
   "cell_type": "code",
   "execution_count": null,
   "metadata": {},
   "outputs": [],
   "source": []
  },
  {
   "cell_type": "code",
   "execution_count": null,
   "metadata": {},
   "outputs": [],
   "source": []
  },
  {
   "cell_type": "code",
   "execution_count": null,
   "metadata": {},
   "outputs": [],
   "source": []
  },
  {
   "cell_type": "code",
   "execution_count": null,
   "metadata": {},
   "outputs": [],
   "source": []
  },
  {
   "cell_type": "code",
   "execution_count": 7,
   "metadata": {},
   "outputs": [],
   "source": [
    "ind=0\n",
    "src=gdal.Open(\"Downloads/RE/sleuthOut/%s.tif\"%(ind+1),gdalconst.GA_ReadOnly)\n",
    "transform=src.GetGeoTransform()"
   ]
  },
  {
   "cell_type": "code",
   "execution_count": 9,
   "metadata": {},
   "outputs": [],
   "source": [
    "cols = src.RasterXSize\n",
    "rows = src.RasterYSize"
   ]
  },
  {
   "cell_type": "code",
   "execution_count": 10,
   "metadata": {},
   "outputs": [],
   "source": [
    "xOrigin = transform[0]\n",
    "yOrigin = transform[3]\n",
    "pixelWidth = transform[1]\n",
    "pixelHeight = -transform[5]"
   ]
  },
  {
   "cell_type": "code",
   "execution_count": null,
   "metadata": {},
   "outputs": [],
   "source": []
  },
  {
   "cell_type": "code",
   "execution_count": 84,
   "metadata": {},
   "outputs": [],
   "source": [
    "adjest_array=im_array2\n",
    "ds=gdal.Open(\"sleuthOut/%s.tif\"%(18+1),gdalconst.GA_ReadOnly)\n",
    "\n",
    "xsize=ds.RasterXSize #水平方向ピクセル数\n",
    "ysize=ds.RasterYSize #垂直方向ピクセル数\n",
    "band=1 #NDVIと赤と近赤外で画像を作るので３つバンドを用意\n",
    "dtype = gdal.GDT_Float64\n",
    "\n",
    "output = gdal.GetDriverByName('GTiff').Create('output19.tif', xsize, ysize, band, dtype)"
   ]
  },
  {
   "cell_type": "code",
   "execution_count": 85,
   "metadata": {},
   "outputs": [],
   "source": [
    "\n",
    "adjest_array[adjest_array==110]=111\n",
    "# adjest_array[adjest_array==-10]=src.GetRasterBand(1).GetNoDataValue()\n",
    "\n",
    "output.SetGeoTransform(ds.GetGeoTransform()) # 座標系指定\n",
    "srs = osr.SpatialReference() # 空間参照情報\n",
    "# srs.ImportFromEPSG(32648) # WGS84 UTM_48nに座標系を指定\n",
    "srs.ImportFromEPSG(4326)\n",
    "\n",
    "output.SetProjection(srs.ExportToWkt()) # 空間情報を結合\n",
    "\n",
    "output.GetRasterBand(1).WriteArray(adjest_array)   # 赤バンド書き出し（b1はnumpy 2次元配列）\n",
    "output.GetRasterBand(1).SetNoDataValue(-10)\n",
    "output.FlushCache()                     # ディスクに書き出し\n",
    "output = None  "
   ]
  },
  {
   "cell_type": "code",
   "execution_count": 13,
   "metadata": {},
   "outputs": [
    {
     "data": {
      "text/plain": [
       "'2,1'"
      ]
     },
     "execution_count": 13,
     "metadata": {},
     "output_type": "execute_result"
    }
   ],
   "source": [
    "\"%d,1\"%2"
   ]
  },
  {
   "cell_type": "code",
   "execution_count": null,
   "metadata": {},
   "outputs": [],
   "source": []
  }
 ],
 "metadata": {
  "kernelspec": {
   "display_name": "Python 3",
   "language": "python",
   "name": "python3"
  },
  "language_info": {
   "codemirror_mode": {
    "name": "ipython",
    "version": 3
   },
   "file_extension": ".py",
   "mimetype": "text/x-python",
   "name": "python",
   "nbconvert_exporter": "python",
   "pygments_lexer": "ipython3",
   "version": "3.7.4"
  }
 },
 "nbformat": 4,
 "nbformat_minor": 4
}
