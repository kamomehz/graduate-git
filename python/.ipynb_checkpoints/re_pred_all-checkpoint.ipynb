{
 "cells": [
  {
   "cell_type": "code",
   "execution_count": 1,
   "metadata": {},
   "outputs": [],
   "source": [
    "import numpy as np\n",
    "import matplotlib.pyplot as plt\n",
    "import glob, os\n",
    "from sklearn import linear_model\n",
    "import sklearn\n",
    "from sklearn import preprocessing \n",
    "from sklearn.neural_network import MLPRegressor\n",
    "import seaborn as sns\n",
    "import pandas as pd"
   ]
  },
  {
   "cell_type": "code",
   "execution_count": 2,
   "metadata": {},
   "outputs": [],
   "source": [
    "from sklearn.preprocessing import LabelEncoder\n",
    "from sklearn.model_selection import train_test_split\n",
    "from sklearn.linear_model import LinearRegression\n",
    "from sklearn.tree import DecisionTreeRegressor\n",
    "from sklearn.ensemble import RandomForestRegressor\n",
    "from sklearn.metrics import mean_squared_error, mean_squared_log_error,r2_score\n",
    "import pickle"
   ]
  },
  {
   "cell_type": "code",
   "execution_count": 3,
   "metadata": {},
   "outputs": [
    {
     "data": {
      "text/plain": [
       "['city',\n",
       " 'g2000',\n",
       " 'p2000',\n",
       " 'country_x',\n",
       " '2000_ls',\n",
       " 'region',\n",
       " 'Regional_label',\n",
       " 'g2010',\n",
       " 'g2015',\n",
       " 'g2020',\n",
       " 'g2025',\n",
       " 'g2030',\n",
       " 'g2035',\n",
       " 'g2040',\n",
       " 'g2045',\n",
       " 'g2050',\n",
       " 'p2010',\n",
       " 'p2015',\n",
       " 'p2020',\n",
       " 'p2025',\n",
       " 'p2030',\n",
       " 'p2035',\n",
       " 'p2040',\n",
       " 'p2045',\n",
       " 'p2050']"
      ]
     },
     "execution_count": 3,
     "metadata": {},
     "output_type": "execute_result"
    }
   ],
   "source": [
    "datap=pd.read_csv(\"datap.csv\").iloc[:,1:]\n",
    "datap.columns.tolist()"
   ]
  },
  {
   "cell_type": "code",
   "execution_count": 4,
   "metadata": {},
   "outputs": [
    {
     "name": "stdout",
     "output_type": "stream",
     "text": [
      "(570, 25)\n"
     ]
    },
    {
     "data": {
      "text/html": [
       "<div>\n",
       "<style scoped>\n",
       "    .dataframe tbody tr th:only-of-type {\n",
       "        vertical-align: middle;\n",
       "    }\n",
       "\n",
       "    .dataframe tbody tr th {\n",
       "        vertical-align: top;\n",
       "    }\n",
       "\n",
       "    .dataframe thead th {\n",
       "        text-align: right;\n",
       "    }\n",
       "</style>\n",
       "<table border=\"1\" class=\"dataframe\">\n",
       "  <thead>\n",
       "    <tr style=\"text-align: right;\">\n",
       "      <th></th>\n",
       "      <th>city</th>\n",
       "      <th>country_x</th>\n",
       "      <th>region</th>\n",
       "      <th>Regional_label</th>\n",
       "      <th>2000_ls</th>\n",
       "      <th>g2000</th>\n",
       "      <th>p2000</th>\n",
       "      <th>g2010</th>\n",
       "      <th>g2015</th>\n",
       "      <th>g2020</th>\n",
       "      <th>...</th>\n",
       "      <th>g2050</th>\n",
       "      <th>p2010</th>\n",
       "      <th>p2015</th>\n",
       "      <th>p2020</th>\n",
       "      <th>p2025</th>\n",
       "      <th>p2030</th>\n",
       "      <th>p2035</th>\n",
       "      <th>p2040</th>\n",
       "      <th>p2045</th>\n",
       "      <th>p2050</th>\n",
       "    </tr>\n",
       "  </thead>\n",
       "  <tbody>\n",
       "    <tr>\n",
       "      <td>0</td>\n",
       "      <td>Beijing</td>\n",
       "      <td>China</td>\n",
       "      <td>Asia</td>\n",
       "      <td>2</td>\n",
       "      <td>2202</td>\n",
       "      <td>3368.066879</td>\n",
       "      <td>1269.116737</td>\n",
       "      <td>9121.348</td>\n",
       "      <td>13852.361</td>\n",
       "      <td>20548.481</td>\n",
       "      <td>...</td>\n",
       "      <td>68441.845</td>\n",
       "      <td>1341.335152</td>\n",
       "      <td>1360.497073</td>\n",
       "      <td>1371.171391</td>\n",
       "      <td>1370.823431</td>\n",
       "      <td>1359.512922</td>\n",
       "      <td>1338.970416</td>\n",
       "      <td>1308.940467</td>\n",
       "      <td>1270.382530</td>\n",
       "      <td>1224.524461</td>\n",
       "    </tr>\n",
       "    <tr>\n",
       "      <td>1</td>\n",
       "      <td>Beijing</td>\n",
       "      <td>China</td>\n",
       "      <td>Asia</td>\n",
       "      <td>2</td>\n",
       "      <td>2202</td>\n",
       "      <td>3368.066879</td>\n",
       "      <td>1269.116737</td>\n",
       "      <td>9121.348</td>\n",
       "      <td>13882.122</td>\n",
       "      <td>20376.807</td>\n",
       "      <td>...</td>\n",
       "      <td>50967.520</td>\n",
       "      <td>1341.335152</td>\n",
       "      <td>1363.419980</td>\n",
       "      <td>1379.229024</td>\n",
       "      <td>1385.145357</td>\n",
       "      <td>1380.651244</td>\n",
       "      <td>1365.275035</td>\n",
       "      <td>1339.586953</td>\n",
       "      <td>1305.120141</td>\n",
       "      <td>1263.138095</td>\n",
       "    </tr>\n",
       "    <tr>\n",
       "      <td>2</td>\n",
       "      <td>Beijing</td>\n",
       "      <td>China</td>\n",
       "      <td>Asia</td>\n",
       "      <td>2</td>\n",
       "      <td>2202</td>\n",
       "      <td>3368.066879</td>\n",
       "      <td>1269.116737</td>\n",
       "      <td>9121.348</td>\n",
       "      <td>13904.466</td>\n",
       "      <td>20318.299</td>\n",
       "      <td>...</td>\n",
       "      <td>38452.515</td>\n",
       "      <td>1341.335152</td>\n",
       "      <td>1365.614536</td>\n",
       "      <td>1385.689297</td>\n",
       "      <td>1397.226179</td>\n",
       "      <td>1398.878559</td>\n",
       "      <td>1388.842511</td>\n",
       "      <td>1368.545423</td>\n",
       "      <td>1340.647345</td>\n",
       "      <td>1307.464875</td>\n",
       "    </tr>\n",
       "    <tr>\n",
       "      <td>3</td>\n",
       "      <td>Beijing</td>\n",
       "      <td>China</td>\n",
       "      <td>Asia</td>\n",
       "      <td>2</td>\n",
       "      <td>2202</td>\n",
       "      <td>3368.066879</td>\n",
       "      <td>1269.116737</td>\n",
       "      <td>9121.348</td>\n",
       "      <td>13843.786</td>\n",
       "      <td>20259.872</td>\n",
       "      <td>...</td>\n",
       "      <td>50574.283</td>\n",
       "      <td>1341.335152</td>\n",
       "      <td>1359.654924</td>\n",
       "      <td>1368.806413</td>\n",
       "      <td>1365.646225</td>\n",
       "      <td>1349.996518</td>\n",
       "      <td>1323.369196</td>\n",
       "      <td>1285.916896</td>\n",
       "      <td>1238.874564</td>\n",
       "      <td>1183.481436</td>\n",
       "    </tr>\n",
       "    <tr>\n",
       "      <td>4</td>\n",
       "      <td>Beijing</td>\n",
       "      <td>China</td>\n",
       "      <td>Asia</td>\n",
       "      <td>2</td>\n",
       "      <td>2202</td>\n",
       "      <td>3368.066879</td>\n",
       "      <td>1269.116737</td>\n",
       "      <td>9121.348</td>\n",
       "      <td>13850.931</td>\n",
       "      <td>20772.390</td>\n",
       "      <td>...</td>\n",
       "      <td>85164.635</td>\n",
       "      <td>1341.335152</td>\n",
       "      <td>1360.356618</td>\n",
       "      <td>1370.950314</td>\n",
       "      <td>1370.528371</td>\n",
       "      <td>1359.188423</td>\n",
       "      <td>1338.658680</td>\n",
       "      <td>1308.692940</td>\n",
       "      <td>1270.243983</td>\n",
       "      <td>1224.521993</td>\n",
       "    </tr>\n",
       "  </tbody>\n",
       "</table>\n",
       "<p>5 rows × 25 columns</p>\n",
       "</div>"
      ],
      "text/plain": [
       "      city country_x region  Regional_label  2000_ls        g2000  \\\n",
       "0  Beijing     China   Asia               2     2202  3368.066879   \n",
       "1  Beijing     China   Asia               2     2202  3368.066879   \n",
       "2  Beijing     China   Asia               2     2202  3368.066879   \n",
       "3  Beijing     China   Asia               2     2202  3368.066879   \n",
       "4  Beijing     China   Asia               2     2202  3368.066879   \n",
       "\n",
       "         p2000     g2010      g2015      g2020  ...      g2050        p2010  \\\n",
       "0  1269.116737  9121.348  13852.361  20548.481  ...  68441.845  1341.335152   \n",
       "1  1269.116737  9121.348  13882.122  20376.807  ...  50967.520  1341.335152   \n",
       "2  1269.116737  9121.348  13904.466  20318.299  ...  38452.515  1341.335152   \n",
       "3  1269.116737  9121.348  13843.786  20259.872  ...  50574.283  1341.335152   \n",
       "4  1269.116737  9121.348  13850.931  20772.390  ...  85164.635  1341.335152   \n",
       "\n",
       "         p2015        p2020        p2025        p2030        p2035  \\\n",
       "0  1360.497073  1371.171391  1370.823431  1359.512922  1338.970416   \n",
       "1  1363.419980  1379.229024  1385.145357  1380.651244  1365.275035   \n",
       "2  1365.614536  1385.689297  1397.226179  1398.878559  1388.842511   \n",
       "3  1359.654924  1368.806413  1365.646225  1349.996518  1323.369196   \n",
       "4  1360.356618  1370.950314  1370.528371  1359.188423  1338.658680   \n",
       "\n",
       "         p2040        p2045        p2050  \n",
       "0  1308.940467  1270.382530  1224.524461  \n",
       "1  1339.586953  1305.120141  1263.138095  \n",
       "2  1368.545423  1340.647345  1307.464875  \n",
       "3  1285.916896  1238.874564  1183.481436  \n",
       "4  1308.692940  1270.243983  1224.521993  \n",
       "\n",
       "[5 rows x 25 columns]"
      ]
     },
     "execution_count": 4,
     "metadata": {},
     "output_type": "execute_result"
    }
   ],
   "source": [
    "datap=pd.read_csv(\"datap.csv\").iloc[:,1:]\n",
    "cols = datap.columns.tolist()\n",
    "cols = cols[0:1]+cols[3:4]+cols[5:7]+cols[4:5]+cols[1:3] + cols[7:]\n",
    "datap=datap[cols]\n",
    "print(datap.shape)\n",
    "datap.head()"
   ]
  },
  {
   "cell_type": "code",
   "execution_count": 6,
   "metadata": {},
   "outputs": [],
   "source": [
    "datas=[datap.iloc[np.arange(0,570,5)+0,:].reset_index().iloc[:,1:],\n",
    "      datap.iloc[np.arange(0,570,5)+1,:].reset_index().iloc[:,1:],\n",
    "      datap.iloc[np.arange(0,570,5)+2,:].reset_index().iloc[:,1:],\n",
    "      datap.iloc[np.arange(0,570,5)+3,:].reset_index().iloc[:,1:],\n",
    "      datap.iloc[np.arange(0,570,5)+4,:].reset_index().iloc[:,1:]]"
   ]
  },
  {
   "cell_type": "code",
   "execution_count": 7,
   "metadata": {},
   "outputs": [],
   "source": [
    "dataTest=datas[0]"
   ]
  },
  {
   "cell_type": "code",
   "execution_count": 8,
   "metadata": {},
   "outputs": [
    {
     "data": {
      "text/plain": [
       "{(0, 'city'),\n",
       " (1, 'country_x'),\n",
       " (2, 'region'),\n",
       " (3, 'Regional_label'),\n",
       " (4, '2000_ls'),\n",
       " (5, 'g2000'),\n",
       " (6, 'p2000'),\n",
       " (7, 'g2010'),\n",
       " (8, 'g2015'),\n",
       " (9, 'g2020'),\n",
       " (10, 'g2025'),\n",
       " (11, 'g2030'),\n",
       " (12, 'g2035'),\n",
       " (13, 'g2040'),\n",
       " (14, 'g2045'),\n",
       " (15, 'g2050'),\n",
       " (16, 'p2010'),\n",
       " (17, 'p2015'),\n",
       " (18, 'p2020'),\n",
       " (19, 'p2025'),\n",
       " (20, 'p2030'),\n",
       " (21, 'p2035'),\n",
       " (22, 'p2040'),\n",
       " (23, 'p2045'),\n",
       " (24, 'p2050')}"
      ]
     },
     "execution_count": 8,
     "metadata": {},
     "output_type": "execute_result"
    }
   ],
   "source": [
    "set(zip(range(40),dataTest.columns))"
   ]
  },
  {
   "cell_type": "code",
   "execution_count": 9,
   "metadata": {},
   "outputs": [],
   "source": [
    "y50=pd.DataFrame(dataTest.iloc[:,[0,1,3,4,6,24,5,15]])\n",
    "n50=pd.DataFrame({\"year\":np.ones(y50.shape[0])*50})\n",
    "y50=pd.concat([y50,n50],axis=1)\n",
    "y50.columns=['city', 'country','Regional_label', 'ls1', \"p1\",'p2', \"g1\",'g2', 'year']"
   ]
  },
  {
   "cell_type": "code",
   "execution_count": 10,
   "metadata": {},
   "outputs": [],
   "source": [
    "data2=y50.copy()"
   ]
  },
  {
   "cell_type": "code",
   "execution_count": 11,
   "metadata": {},
   "outputs": [
    {
     "data": {
      "image/png": "[encoded data removed]",
      "text/plain": [
       "<Figure size 1152x864 with 2 Axes>"
      ]
     },
     "metadata": {
      "needs_background": "light"
     },
     "output_type": "display_data"
    }
   ],
   "source": [
    "plt.figure(figsize=(16,12))\n",
    "sns.heatmap(data=data2.iloc[:,:].corr(),annot=True,fmt='.2f',cmap='YlOrBr')\n",
    "plt.show()"
   ]
  },
  {
   "cell_type": "code",
   "execution_count": 12,
   "metadata": {},
   "outputs": [
    {
     "data": {
      "text/plain": [
       "array(['city', 'country', 'Regional_label', 'ls1', 'p1', 'p2', 'g1', 'g2',\n",
       "       'year'], dtype=object)"
      ]
     },
     "execution_count": 12,
     "metadata": {},
     "output_type": "execute_result"
    }
   ],
   "source": [
    "data2.columns.values"
   ]
  },
  {
   "cell_type": "markdown",
   "metadata": {},
   "source": [
    "# Load & use model"
   ]
  },
  {
   "cell_type": "code",
   "execution_count": 13,
   "metadata": {
    "collapsed": true,
    "jupyter": {
     "outputs_hidden": true
    }
   },
   "outputs": [
    {
     "name": "stderr",
     "output_type": "stream",
     "text": [
      "/opt/anaconda3/lib/python3.7/site-packages/sklearn/base.py:306: UserWarning: Trying to unpickle estimator LinearRegression from version 0.20.3 when using version 0.21.3. This might lead to breaking code or invalid results. Use at your own risk.\n",
      "  UserWarning)\n",
      "/opt/anaconda3/lib/python3.7/site-packages/sklearn/base.py:306: UserWarning: Trying to unpickle estimator DecisionTreeRegressor from version 0.20.3 when using version 0.21.3. This might lead to breaking code or invalid results. Use at your own risk.\n",
      "  UserWarning)\n",
      "/opt/anaconda3/lib/python3.7/site-packages/sklearn/base.py:306: UserWarning: Trying to unpickle estimator RandomForestRegressor from version 0.20.3 when using version 0.21.3. This might lead to breaking code or invalid results. Use at your own risk.\n",
      "  UserWarning)\n"
     ]
    },
    {
     "ename": "EOFError",
     "evalue": "Ran out of input",
     "output_type": "error",
     "traceback": [
      "\u001b[0;31m---------------------------------------------------------------------------\u001b[0m",
      "\u001b[0;31mEOFError\u001b[0m                                  Traceback (most recent call last)",
      "\u001b[0;32m<ipython-input-13-464a545aa76d>\u001b[0m in \u001b[0;36m<module>\u001b[0;34m\u001b[0m\n\u001b[1;32m      8\u001b[0m     \u001b[0mRF2\u001b[0m \u001b[0;34m=\u001b[0m \u001b[0mpickle\u001b[0m\u001b[0;34m.\u001b[0m\u001b[0mload\u001b[0m\u001b[0;34m(\u001b[0m\u001b[0mfr\u001b[0m\u001b[0;34m)\u001b[0m\u001b[0;34m\u001b[0m\u001b[0;34m\u001b[0m\u001b[0m\n\u001b[1;32m      9\u001b[0m \u001b[0;32mwith\u001b[0m \u001b[0mopen\u001b[0m\u001b[0;34m(\u001b[0m\u001b[0;34m'LR3.pickle'\u001b[0m\u001b[0;34m,\u001b[0m \u001b[0;34m'rb'\u001b[0m\u001b[0;34m)\u001b[0m \u001b[0;32mas\u001b[0m \u001b[0mfr\u001b[0m\u001b[0;34m:\u001b[0m\u001b[0;34m\u001b[0m\u001b[0;34m\u001b[0m\u001b[0m\n\u001b[0;32m---> 10\u001b[0;31m     \u001b[0mLR3\u001b[0m \u001b[0;34m=\u001b[0m \u001b[0mpickle\u001b[0m\u001b[0;34m.\u001b[0m\u001b[0mload\u001b[0m\u001b[0;34m(\u001b[0m\u001b[0mfr\u001b[0m\u001b[0;34m)\u001b[0m\u001b[0;34m\u001b[0m\u001b[0;34m\u001b[0m\u001b[0m\n\u001b[0m\u001b[1;32m     11\u001b[0m \u001b[0;32mwith\u001b[0m \u001b[0mopen\u001b[0m\u001b[0;34m(\u001b[0m\u001b[0;34m'RF3.pickle'\u001b[0m\u001b[0;34m,\u001b[0m \u001b[0;34m'rb'\u001b[0m\u001b[0;34m)\u001b[0m \u001b[0;32mas\u001b[0m \u001b[0mfr\u001b[0m\u001b[0;34m:\u001b[0m\u001b[0;34m\u001b[0m\u001b[0;34m\u001b[0m\u001b[0m\n\u001b[1;32m     12\u001b[0m     \u001b[0mRF3\u001b[0m \u001b[0;34m=\u001b[0m \u001b[0mpickle\u001b[0m\u001b[0;34m.\u001b[0m\u001b[0mload\u001b[0m\u001b[0;34m(\u001b[0m\u001b[0mfr\u001b[0m\u001b[0;34m)\u001b[0m\u001b[0;34m\u001b[0m\u001b[0;34m\u001b[0m\u001b[0m\n",
      "\u001b[0;31mEOFError\u001b[0m: Ran out of input"
     ]
    }
   ],
   "source": [
    "with open('LR.pickle', 'rb') as fr:\n",
    "    LR = pickle.load(fr)\n",
    "with open('RF.pickle', 'rb') as fr:\n",
    "    RF = pickle.load(fr)\n",
    "with open('LR2.pickle', 'rb') as fr:\n",
    "    LR2 = pickle.load(fr)\n",
    "with open('RF2.pickle', 'rb') as fr:\n",
    "    RF2 = pickle.load(fr)\n",
    "with open('LR3.pickle', 'rb') as fr:\n",
    "    LR3 = pickle.load(fr)\n",
    "with open('RF3.pickle', 'rb') as fr:\n",
    "    RF3 = pickle.load(fr)\n",
    "with open('RI.pickle', 'rb') as fr:\n",
    "    RI = pickle.load(fr)\n",
    "with open('LR4.pickle', 'rb') as fr:\n",
    "    LR4 = pickle.load(fr)\n",
    "with open('RF4.pickle', 'rb') as fr:\n",
    "    RF4 = pickle.load(fr)\n",
    "with open('LRexp.pickle', 'rb') as fr:\n",
    "    LRe = pickle.load(fr)\n",
    "with open('RFexp.pickle', 'rb') as fr:\n",
    "    RFe = pickle.load(fr)"
   ]
  },
  {
   "cell_type": "code",
   "execution_count": 14,
   "metadata": {},
   "outputs": [],
   "source": [
    "# with open('LR.pickle', 'rb') as fr:\n",
    "#     LR = pickle.load(fr)\n",
    "with open('LR-2015.pickle', 'rb') as fr:\n",
    "    LR2015 = pickle.load(fr)\n",
    "with open('LR-2015-gdp.pickle', 'rb') as fr:\n",
    "    LR2015g = pickle.load(fr)"
   ]
  },
  {
   "cell_type": "markdown",
   "metadata": {},
   "source": [
    " ['ls1','g1', 'g2','p1','p2','year']"
   ]
  },
  {
   "cell_type": "code",
   "execution_count": 15,
   "metadata": {},
   "outputs": [
    {
     "data": {
      "text/plain": [
       "(array([ 1.1004287 , -0.0969305 ,  0.0713    ,  1.2969688 , -1.07654042,\n",
       "        14.28474315]),\n",
       " array([ 1.10097433, -0.11562824,  0.09320147,  9.0794754 ]))"
      ]
     },
     "execution_count": 15,
     "metadata": {},
     "output_type": "execute_result"
    }
   ],
   "source": [
    "LR2015.coef_,LR2015g.coef_"
   ]
  },
  {
   "cell_type": "code",
   "execution_count": 46,
   "metadata": {},
   "outputs": [
    {
     "data": {
      "text/plain": [
       "(-28.231285761133222, 30.16751951103697)"
      ]
     },
     "execution_count": 46,
     "metadata": {},
     "output_type": "execute_result"
    }
   ],
   "source": [
    "LR2015.intercept_,LR2015g.intercept_"
   ]
  },
  {
   "cell_type": "code",
   "execution_count": 47,
   "metadata": {},
   "outputs": [
    {
     "data": {
      "text/plain": [
       "686.0058716588396"
      ]
     },
     "execution_count": 47,
     "metadata": {},
     "output_type": "execute_result"
    }
   ],
   "source": [
    "np.dot(LR2015.coef_[:-1],datap.iloc[30:31,[4,5,15,6,24]].values[0])\n",
    "+LR2015.coef_[-1]*50+LR2015.intercept_\n"
   ]
  },
  {
   "cell_type": "code",
   "execution_count": 31,
   "metadata": {},
   "outputs": [
    {
     "data": {
      "text/html": [
       "<div>\n",
       "<style scoped>\n",
       "    .dataframe tbody tr th:only-of-type {\n",
       "        vertical-align: middle;\n",
       "    }\n",
       "\n",
       "    .dataframe tbody tr th {\n",
       "        vertical-align: top;\n",
       "    }\n",
       "\n",
       "    .dataframe thead th {\n",
       "        text-align: right;\n",
       "    }\n",
       "</style>\n",
       "<table border=\"1\" class=\"dataframe\">\n",
       "  <thead>\n",
       "    <tr style=\"text-align: right;\">\n",
       "      <th></th>\n",
       "      <th>city</th>\n",
       "      <th>country_x</th>\n",
       "      <th>Regional_label</th>\n",
       "      <th>2000_ls</th>\n",
       "      <th>p2000</th>\n",
       "      <th>p2050</th>\n",
       "      <th>g2000</th>\n",
       "      <th>g2050</th>\n",
       "    </tr>\n",
       "  </thead>\n",
       "  <tbody>\n",
       "    <tr>\n",
       "      <td>30</td>\n",
       "      <td>Chongqing</td>\n",
       "      <td>China</td>\n",
       "      <td>2</td>\n",
       "      <td>1086</td>\n",
       "      <td>1269.116737</td>\n",
       "      <td>1224.524461</td>\n",
       "      <td>3368.066879</td>\n",
       "      <td>68441.845</td>\n",
       "    </tr>\n",
       "  </tbody>\n",
       "</table>\n",
       "</div>"
      ],
      "text/plain": [
       "         city country_x  Regional_label  2000_ls        p2000        p2050  \\\n",
       "30  Chongqing     China               2     1086  1269.116737  1224.524461   \n",
       "\n",
       "          g2000      g2050  \n",
       "30  3368.066879  68441.845  "
      ]
     },
     "execution_count": 31,
     "metadata": {},
     "output_type": "execute_result"
    }
   ],
   "source": [
    "datap.iloc[30:31,[0,1,3,4,6,24,5,15]]"
   ]
  },
  {
   "cell_type": "code",
   "execution_count": 16,
   "metadata": {},
   "outputs": [],
   "source": [
    "datar=pd.read_csv(\"datar.csv\").iloc[:,[3]]"
   ]
  },
  {
   "cell_type": "markdown",
   "metadata": {},
   "source": [
    "_𝑈𝐴_2015_=1.16∙_𝑈𝐴_1992_−0.17∙_𝐺𝐷𝑃_1992_+0.11∙_𝐺𝐷𝑃_2015_+189.30∙2015−365969"
   ]
  },
  {
   "cell_type": "code",
   "execution_count": 24,
   "metadata": {},
   "outputs": [],
   "source": [
    "# model=LR\n",
    "model=LR2015\n",
    "multi=0\n",
    "training_features = ['ls1','g1', 'g2','p1','p2','year']\n",
    "# training_features = ['ls1','g1', 'g2','year']\n",
    "sl=pd.read_csv(\"sleuthOutput.csv\").iloc[:,1:]\n",
    "\n",
    "for i in range(5):\n",
    "    dataTest=datas[4-i]\n",
    "    y50=pd.DataFrame(dataTest.iloc[:,[0,1,3,4,6,24,5,15]])\n",
    "    n50=pd.DataFrame({\"year\":np.ones(y50.shape[0])*50})\n",
    "    y50=pd.concat([y50,n50],axis=1)\n",
    "#     y50.iloc[:,4:8]=np.log(y50.iloc[:,4:8])\n",
    "    y50.columns=['city', 'country','Regional_label', 'ls1', \"p1\",'p2', \"g1\",'g2', 'year']\n",
    "    data2=y50\n",
    "    if multi==1:\n",
    "        pred2050=(model.predict(data2[training_features])*data2.iloc[:,3]).astype('int')\n",
    "    else:\n",
    "        pred2050=model.predict(data2[training_features]).astype('int')\n",
    "    pred20502=pd.DataFrame({'city':data2.iloc[:,0],'ssp'+str(5-i):pred2050})\n",
    "\n",
    "    sl=pd.merge(pred20502,sl,on='city')\n",
    "    \n",
    "# sl.to_csv(\"slexp.csv\")\n",
    "# sl\n"
   ]
  },
  {
   "cell_type": "code",
   "execution_count": 25,
   "metadata": {},
   "outputs": [
    {
     "data": {
      "text/html": [
       "<div>\n",
       "<style scoped>\n",
       "    .dataframe tbody tr th:only-of-type {\n",
       "        vertical-align: middle;\n",
       "    }\n",
       "\n",
       "    .dataframe tbody tr th {\n",
       "        vertical-align: top;\n",
       "    }\n",
       "\n",
       "    .dataframe thead th {\n",
       "        text-align: right;\n",
       "    }\n",
       "</style>\n",
       "<table border=\"1\" class=\"dataframe\">\n",
       "  <thead>\n",
       "    <tr style=\"text-align: right;\">\n",
       "      <th></th>\n",
       "      <th>city</th>\n",
       "      <th>ssp1</th>\n",
       "      <th>ssp2</th>\n",
       "      <th>ssp3</th>\n",
       "      <th>ssp4</th>\n",
       "      <th>ssp5</th>\n",
       "      <th>sleuth2050</th>\n",
       "      <th>ls2012</th>\n",
       "    </tr>\n",
       "  </thead>\n",
       "  <tbody>\n",
       "    <tr>\n",
       "      <td>0</td>\n",
       "      <td>Beijing</td>\n",
       "      <td>7990</td>\n",
       "      <td>6702</td>\n",
       "      <td>5762</td>\n",
       "      <td>6760</td>\n",
       "      <td>9182</td>\n",
       "      <td>8915.95</td>\n",
       "      <td>4367.0</td>\n",
       "    </tr>\n",
       "    <tr>\n",
       "      <td>1</td>\n",
       "      <td>Shanghai</td>\n",
       "      <td>7470</td>\n",
       "      <td>6183</td>\n",
       "      <td>5243</td>\n",
       "      <td>6241</td>\n",
       "      <td>8663</td>\n",
       "      <td>8798.92</td>\n",
       "      <td>4439.0</td>\n",
       "    </tr>\n",
       "    <tr>\n",
       "      <td>2</td>\n",
       "      <td>Guangzhou</td>\n",
       "      <td>7612</td>\n",
       "      <td>6325</td>\n",
       "      <td>5385</td>\n",
       "      <td>6383</td>\n",
       "      <td>8805</td>\n",
       "      <td>12294.69</td>\n",
       "      <td>4654.0</td>\n",
       "    </tr>\n",
       "    <tr>\n",
       "      <td>3</td>\n",
       "      <td>Shenzhen</td>\n",
       "      <td>6865</td>\n",
       "      <td>5578</td>\n",
       "      <td>4638</td>\n",
       "      <td>5635</td>\n",
       "      <td>8058</td>\n",
       "      <td>9670.15</td>\n",
       "      <td>3870.0</td>\n",
       "    </tr>\n",
       "    <tr>\n",
       "      <td>4</td>\n",
       "      <td>Wuhan</td>\n",
       "      <td>7050</td>\n",
       "      <td>5763</td>\n",
       "      <td>4823</td>\n",
       "      <td>5820</td>\n",
       "      <td>8242</td>\n",
       "      <td>3266.89</td>\n",
       "      <td>1947.0</td>\n",
       "    </tr>\n",
       "    <tr>\n",
       "      <td>5</td>\n",
       "      <td>Chengdu</td>\n",
       "      <td>7154</td>\n",
       "      <td>5866</td>\n",
       "      <td>4926</td>\n",
       "      <td>5924</td>\n",
       "      <td>8346</td>\n",
       "      <td>4427.08</td>\n",
       "      <td>2526.0</td>\n",
       "    </tr>\n",
       "    <tr>\n",
       "      <td>6</td>\n",
       "      <td>Chongqing</td>\n",
       "      <td>6762</td>\n",
       "      <td>5474</td>\n",
       "      <td>4534</td>\n",
       "      <td>5532</td>\n",
       "      <td>7954</td>\n",
       "      <td>1460.50</td>\n",
       "      <td>1417.0</td>\n",
       "    </tr>\n",
       "    <tr>\n",
       "      <td>7</td>\n",
       "      <td>Tianjin</td>\n",
       "      <td>7172</td>\n",
       "      <td>5885</td>\n",
       "      <td>4945</td>\n",
       "      <td>5942</td>\n",
       "      <td>8365</td>\n",
       "      <td>2998.57</td>\n",
       "      <td>2200.0</td>\n",
       "    </tr>\n",
       "    <tr>\n",
       "      <td>8</td>\n",
       "      <td>Hangzhou</td>\n",
       "      <td>7451</td>\n",
       "      <td>6163</td>\n",
       "      <td>5223</td>\n",
       "      <td>6221</td>\n",
       "      <td>8643</td>\n",
       "      <td>2573.08</td>\n",
       "      <td>2410.0</td>\n",
       "    </tr>\n",
       "    <tr>\n",
       "      <td>9</td>\n",
       "      <td>Xi'an</td>\n",
       "      <td>7126</td>\n",
       "      <td>5839</td>\n",
       "      <td>4898</td>\n",
       "      <td>5896</td>\n",
       "      <td>8318</td>\n",
       "      <td>1821.71</td>\n",
       "      <td>1711.0</td>\n",
       "    </tr>\n",
       "    <tr>\n",
       "      <td>10</td>\n",
       "      <td>Changzhou</td>\n",
       "      <td>8036</td>\n",
       "      <td>6749</td>\n",
       "      <td>5809</td>\n",
       "      <td>6806</td>\n",
       "      <td>9228</td>\n",
       "      <td>3220.52</td>\n",
       "      <td>2914.0</td>\n",
       "    </tr>\n",
       "    <tr>\n",
       "      <td>11</td>\n",
       "      <td>Shantou</td>\n",
       "      <td>7199</td>\n",
       "      <td>5911</td>\n",
       "      <td>4971</td>\n",
       "      <td>5969</td>\n",
       "      <td>8391</td>\n",
       "      <td>5119.11</td>\n",
       "      <td>2698.0</td>\n",
       "    </tr>\n",
       "    <tr>\n",
       "      <td>12</td>\n",
       "      <td>Nanjing</td>\n",
       "      <td>7322</td>\n",
       "      <td>6034</td>\n",
       "      <td>5094</td>\n",
       "      <td>6092</td>\n",
       "      <td>8514</td>\n",
       "      <td>2079.93</td>\n",
       "      <td>1979.0</td>\n",
       "    </tr>\n",
       "    <tr>\n",
       "      <td>13</td>\n",
       "      <td>Jinan</td>\n",
       "      <td>6902</td>\n",
       "      <td>5614</td>\n",
       "      <td>4674</td>\n",
       "      <td>5672</td>\n",
       "      <td>8094</td>\n",
       "      <td>1650.06</td>\n",
       "      <td>1540.0</td>\n",
       "    </tr>\n",
       "    <tr>\n",
       "      <td>14</td>\n",
       "      <td>Harbin</td>\n",
       "      <td>6273</td>\n",
       "      <td>4986</td>\n",
       "      <td>4046</td>\n",
       "      <td>5043</td>\n",
       "      <td>7466</td>\n",
       "      <td>2608.92</td>\n",
       "      <td>995.0</td>\n",
       "    </tr>\n",
       "    <tr>\n",
       "      <td>15</td>\n",
       "      <td>Zhengzhou</td>\n",
       "      <td>6888</td>\n",
       "      <td>5601</td>\n",
       "      <td>4661</td>\n",
       "      <td>5659</td>\n",
       "      <td>8081</td>\n",
       "      <td>2203.81</td>\n",
       "      <td>2081.0</td>\n",
       "    </tr>\n",
       "    <tr>\n",
       "      <td>16</td>\n",
       "      <td>New Delhi</td>\n",
       "      <td>5940</td>\n",
       "      <td>5075</td>\n",
       "      <td>4204</td>\n",
       "      <td>4954</td>\n",
       "      <td>6628</td>\n",
       "      <td>4101.17</td>\n",
       "      <td>3725.0</td>\n",
       "    </tr>\n",
       "    <tr>\n",
       "      <td>17</td>\n",
       "      <td>Mumbai</td>\n",
       "      <td>4584</td>\n",
       "      <td>3719</td>\n",
       "      <td>2848</td>\n",
       "      <td>3599</td>\n",
       "      <td>5272</td>\n",
       "      <td>1864.04</td>\n",
       "      <td>1796.0</td>\n",
       "    </tr>\n",
       "    <tr>\n",
       "      <td>18</td>\n",
       "      <td>Kolkata</td>\n",
       "      <td>8279</td>\n",
       "      <td>7415</td>\n",
       "      <td>6543</td>\n",
       "      <td>7294</td>\n",
       "      <td>8967</td>\n",
       "      <td>5679.39</td>\n",
       "      <td>5177.0</td>\n",
       "    </tr>\n",
       "    <tr>\n",
       "      <td>19</td>\n",
       "      <td>Bangalore</td>\n",
       "      <td>4281</td>\n",
       "      <td>3417</td>\n",
       "      <td>2545</td>\n",
       "      <td>3296</td>\n",
       "      <td>4970</td>\n",
       "      <td>2045.63</td>\n",
       "      <td>1956.0</td>\n",
       "    </tr>\n",
       "  </tbody>\n",
       "</table>\n",
       "</div>"
      ],
      "text/plain": [
       "         city  ssp1  ssp2  ssp3  ssp4  ssp5  sleuth2050  ls2012\n",
       "0     Beijing  7990  6702  5762  6760  9182     8915.95  4367.0\n",
       "1    Shanghai  7470  6183  5243  6241  8663     8798.92  4439.0\n",
       "2   Guangzhou  7612  6325  5385  6383  8805    12294.69  4654.0\n",
       "3    Shenzhen  6865  5578  4638  5635  8058     9670.15  3870.0\n",
       "4       Wuhan  7050  5763  4823  5820  8242     3266.89  1947.0\n",
       "5     Chengdu  7154  5866  4926  5924  8346     4427.08  2526.0\n",
       "6   Chongqing  6762  5474  4534  5532  7954     1460.50  1417.0\n",
       "7     Tianjin  7172  5885  4945  5942  8365     2998.57  2200.0\n",
       "8    Hangzhou  7451  6163  5223  6221  8643     2573.08  2410.0\n",
       "9       Xi'an  7126  5839  4898  5896  8318     1821.71  1711.0\n",
       "10  Changzhou  8036  6749  5809  6806  9228     3220.52  2914.0\n",
       "11    Shantou  7199  5911  4971  5969  8391     5119.11  2698.0\n",
       "12    Nanjing  7322  6034  5094  6092  8514     2079.93  1979.0\n",
       "13      Jinan  6902  5614  4674  5672  8094     1650.06  1540.0\n",
       "14     Harbin  6273  4986  4046  5043  7466     2608.92   995.0\n",
       "15  Zhengzhou  6888  5601  4661  5659  8081     2203.81  2081.0\n",
       "16  New Delhi  5940  5075  4204  4954  6628     4101.17  3725.0\n",
       "17     Mumbai  4584  3719  2848  3599  5272     1864.04  1796.0\n",
       "18    Kolkata  8279  7415  6543  7294  8967     5679.39  5177.0\n",
       "19  Bangalore  4281  3417  2545  3296  4970     2045.63  1956.0"
      ]
     },
     "execution_count": 25,
     "metadata": {},
     "output_type": "execute_result"
    }
   ],
   "source": [
    "sl.head(20)"
   ]
  },
  {
   "cell_type": "code",
   "execution_count": 26,
   "metadata": {},
   "outputs": [
    {
     "data": {
      "text/html": [
       "<div>\n",
       "<style scoped>\n",
       "    .dataframe tbody tr th:only-of-type {\n",
       "        vertical-align: middle;\n",
       "    }\n",
       "\n",
       "    .dataframe tbody tr th {\n",
       "        vertical-align: top;\n",
       "    }\n",
       "\n",
       "    .dataframe thead th {\n",
       "        text-align: right;\n",
       "    }\n",
       "</style>\n",
       "<table border=\"1\" class=\"dataframe\">\n",
       "  <thead>\n",
       "    <tr style=\"text-align: right;\">\n",
       "      <th></th>\n",
       "      <th>city</th>\n",
       "      <th>ssp1</th>\n",
       "      <th>ssp2</th>\n",
       "      <th>ssp3</th>\n",
       "      <th>ssp4</th>\n",
       "      <th>ssp5</th>\n",
       "      <th>sleuth2050</th>\n",
       "      <th>ls2012</th>\n",
       "      <th>2000_ls</th>\n",
       "    </tr>\n",
       "  </thead>\n",
       "  <tbody>\n",
       "    <tr>\n",
       "      <td>0</td>\n",
       "      <td>Beijing</td>\n",
       "      <td>7990</td>\n",
       "      <td>6702</td>\n",
       "      <td>5762</td>\n",
       "      <td>6760</td>\n",
       "      <td>9182</td>\n",
       "      <td>8915.95</td>\n",
       "      <td>4367.0</td>\n",
       "      <td>2202</td>\n",
       "    </tr>\n",
       "    <tr>\n",
       "      <td>1</td>\n",
       "      <td>Shanghai</td>\n",
       "      <td>7470</td>\n",
       "      <td>6183</td>\n",
       "      <td>5243</td>\n",
       "      <td>6241</td>\n",
       "      <td>8663</td>\n",
       "      <td>8798.92</td>\n",
       "      <td>4439.0</td>\n",
       "      <td>1730</td>\n",
       "    </tr>\n",
       "    <tr>\n",
       "      <td>2</td>\n",
       "      <td>Guangzhou</td>\n",
       "      <td>7612</td>\n",
       "      <td>6325</td>\n",
       "      <td>5385</td>\n",
       "      <td>6383</td>\n",
       "      <td>8805</td>\n",
       "      <td>12294.69</td>\n",
       "      <td>4654.0</td>\n",
       "      <td>1859</td>\n",
       "    </tr>\n",
       "    <tr>\n",
       "      <td>3</td>\n",
       "      <td>Shenzhen</td>\n",
       "      <td>6865</td>\n",
       "      <td>5578</td>\n",
       "      <td>4638</td>\n",
       "      <td>5635</td>\n",
       "      <td>8058</td>\n",
       "      <td>9670.15</td>\n",
       "      <td>3870.0</td>\n",
       "      <td>1180</td>\n",
       "    </tr>\n",
       "    <tr>\n",
       "      <td>4</td>\n",
       "      <td>Wuhan</td>\n",
       "      <td>7050</td>\n",
       "      <td>5763</td>\n",
       "      <td>4823</td>\n",
       "      <td>5820</td>\n",
       "      <td>8242</td>\n",
       "      <td>3266.89</td>\n",
       "      <td>1947.0</td>\n",
       "      <td>1348</td>\n",
       "    </tr>\n",
       "    <tr>\n",
       "      <td>...</td>\n",
       "      <td>...</td>\n",
       "      <td>...</td>\n",
       "      <td>...</td>\n",
       "      <td>...</td>\n",
       "      <td>...</td>\n",
       "      <td>...</td>\n",
       "      <td>...</td>\n",
       "      <td>...</td>\n",
       "      <td>...</td>\n",
       "    </tr>\n",
       "    <tr>\n",
       "      <td>109</td>\n",
       "      <td>Kingston</td>\n",
       "      <td>4417</td>\n",
       "      <td>4416</td>\n",
       "      <td>4415</td>\n",
       "      <td>4417</td>\n",
       "      <td>4418</td>\n",
       "      <td>4035.10</td>\n",
       "      <td>3161.0</td>\n",
       "      <td>3389</td>\n",
       "    </tr>\n",
       "    <tr>\n",
       "      <td>110</td>\n",
       "      <td>Ljubljana</td>\n",
       "      <td>862</td>\n",
       "      <td>862</td>\n",
       "      <td>861</td>\n",
       "      <td>862</td>\n",
       "      <td>865</td>\n",
       "      <td>145.00</td>\n",
       "      <td>145.0</td>\n",
       "      <td>157</td>\n",
       "    </tr>\n",
       "    <tr>\n",
       "      <td>111</td>\n",
       "      <td>Riga</td>\n",
       "      <td>899</td>\n",
       "      <td>898</td>\n",
       "      <td>897</td>\n",
       "      <td>898</td>\n",
       "      <td>900</td>\n",
       "      <td>205.00</td>\n",
       "      <td>205.0</td>\n",
       "      <td>189</td>\n",
       "    </tr>\n",
       "    <tr>\n",
       "      <td>112</td>\n",
       "      <td>Tallinn</td>\n",
       "      <td>828</td>\n",
       "      <td>828</td>\n",
       "      <td>827</td>\n",
       "      <td>828</td>\n",
       "      <td>829</td>\n",
       "      <td>137.00</td>\n",
       "      <td>137.0</td>\n",
       "      <td>126</td>\n",
       "    </tr>\n",
       "    <tr>\n",
       "      <td>113</td>\n",
       "      <td>Georgetown</td>\n",
       "      <td>2464</td>\n",
       "      <td>2463</td>\n",
       "      <td>2463</td>\n",
       "      <td>2463</td>\n",
       "      <td>2464</td>\n",
       "      <td>1849.48</td>\n",
       "      <td>1714.0</td>\n",
       "      <td>1615</td>\n",
       "    </tr>\n",
       "  </tbody>\n",
       "</table>\n",
       "<p>114 rows × 9 columns</p>\n",
       "</div>"
      ],
      "text/plain": [
       "           city  ssp1  ssp2  ssp3  ssp4  ssp5  sleuth2050  ls2012  2000_ls\n",
       "0       Beijing  7990  6702  5762  6760  9182     8915.95  4367.0     2202\n",
       "1      Shanghai  7470  6183  5243  6241  8663     8798.92  4439.0     1730\n",
       "2     Guangzhou  7612  6325  5385  6383  8805    12294.69  4654.0     1859\n",
       "3      Shenzhen  6865  5578  4638  5635  8058     9670.15  3870.0     1180\n",
       "4         Wuhan  7050  5763  4823  5820  8242     3266.89  1947.0     1348\n",
       "..          ...   ...   ...   ...   ...   ...         ...     ...      ...\n",
       "109    Kingston  4417  4416  4415  4417  4418     4035.10  3161.0     3389\n",
       "110   Ljubljana   862   862   861   862   865      145.00   145.0      157\n",
       "111        Riga   899   898   897   898   900      205.00   205.0      189\n",
       "112     Tallinn   828   828   827   828   829      137.00   137.0      126\n",
       "113  Georgetown  2464  2463  2463  2463  2464     1849.48  1714.0     1615\n",
       "\n",
       "[114 rows x 9 columns]"
      ]
     },
     "execution_count": 26,
     "metadata": {},
     "output_type": "execute_result"
    }
   ],
   "source": [
    "sl2pg=pd.concat([sl,datar],axis=1)\n",
    "sl2pg\n",
    "# sl2pg.to_csv(\"2050pred-people-gdp.csv\")\n"
   ]
  },
  {
   "cell_type": "code",
   "execution_count": 51,
   "metadata": {},
   "outputs": [
    {
     "data": {
      "text/plain": [
       "(114, 3)"
      ]
     },
     "execution_count": 51,
     "metadata": {},
     "output_type": "execute_result"
    }
   ],
   "source": [
    "sl2pg.head(10)\n",
    "pd.read_csv(\"sleuthOutput.csv\").iloc[:10,1:]"
   ]
  },
  {
   "cell_type": "code",
   "execution_count": 46,
   "metadata": {},
   "outputs": [],
   "source": [
    "sl2g=pd.concat([sl,datar],axis=1)\n",
    "sl2g\n",
    "# sl2g.to_csv(\"2050pred-gdp.csv\")\n"
   ]
  },
  {
   "cell_type": "code",
   "execution_count": 47,
   "metadata": {},
   "outputs": [
    {
     "data": {
      "text/plain": [
       "city          BeijingShanghaiGuangzhouShenzhenWuhanChengduCh...\n",
       "ssp1                                                     325952\n",
       "ssp2                                                     291946\n",
       "ssp3                                                     265075\n",
       "ssp4                                                     290114\n",
       "ssp5                                                     362079\n",
       "sleuth2050                                               263673\n",
       "ls2012                                                   171320\n",
       "2000_ls                                                  130397\n",
       "dtype: object"
      ]
     },
     "execution_count": 47,
     "metadata": {},
     "output_type": "execute_result"
    }
   ],
   "source": [
    "sl2g.sum()"
   ]
  },
  {
   "cell_type": "code",
   "execution_count": 48,
   "metadata": {},
   "outputs": [
    {
     "data": {
      "text/plain": [
       "city          BeijingShanghaiGuangzhouShenzhenWuhanChengduCh...\n",
       "ssp1                                                     320901\n",
       "ssp2                                                     293012\n",
       "ssp3                                                     270436\n",
       "ssp4                                                     293913\n",
       "ssp5                                                     348209\n",
       "sleuth2050                                               263673\n",
       "ls2012                                                   171320\n",
       "2000_ls                                                  130397\n",
       "dtype: object"
      ]
     },
     "execution_count": 48,
     "metadata": {},
     "output_type": "execute_result"
    }
   ],
   "source": [
    "sl2pg.sum()"
   ]
  },
  {
   "cell_type": "code",
   "execution_count": 25,
   "metadata": {},
   "outputs": [
    {
     "data": {
      "text/plain": [
       "city          BeijingShanghaiGuangzhouShenzhenWuhanChengduCh...\n",
       "ssp1                                                     203528\n",
       "ssp2                                                     188039\n",
       "ssp3                                                     174795\n",
       "ssp4                                                     191735\n",
       "ssp5                                                     215604\n",
       "sleuth2050                                               263673\n",
       "ls2012                                                   171320\n",
       "dtype: object"
      ]
     },
     "execution_count": 25,
     "metadata": {},
     "output_type": "execute_result"
    }
   ],
   "source": [
    "sl.sum()"
   ]
  },
  {
   "cell_type": "code",
   "execution_count": null,
   "metadata": {},
   "outputs": [],
   "source": []
  },
  {
   "cell_type": "code",
   "execution_count": null,
   "metadata": {},
   "outputs": [],
   "source": []
  },
  {
   "cell_type": "code",
   "execution_count": null,
   "metadata": {},
   "outputs": [],
   "source": []
  },
  {
   "cell_type": "code",
   "execution_count": null,
   "metadata": {},
   "outputs": [],
   "source": []
  }
 ],
 "metadata": {
  "kernelspec": {
   "display_name": "Python 3",
   "language": "python",
   "name": "python3"
  },
  "language_info": {
   "codemirror_mode": {
    "name": "ipython",
    "version": 3
   },
   "file_extension": ".py",
   "mimetype": "text/x-python",
   "name": "python",
   "nbconvert_exporter": "python",
   "pygments_lexer": "ipython3",
   "version": "3.7.4"
  }
 },
 "nbformat": 4,
 "nbformat_minor": 4
}
